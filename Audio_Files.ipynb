{
 "cells": [
  {
   "cell_type": "code",
   "execution_count": 1,
   "metadata": {},
   "outputs": [],
   "source": [
    "import pandas as pd\n",
    "import numpy as np\n",
    "import matplotlib.pyplot as plt\n",
    "import seaborn as sns\n",
    "\n",
    "from glob import glob\n",
    "\n",
    "import librosa\n",
    "import librosa.display\n",
    "import IPython.display as ipd\n",
    "\n",
    "from itertools import cycle\n",
    "\n",
    "from sklearn.model_selection import train_test_split\n",
    "from sklearn.metrics import classification_report\n",
    "from sklearn.metrics import ConfusionMatrixDisplay, confusion_matrix\n",
    "from sklearn.ensemble import RandomForestClassifier\n",
    "import xgboost as xbg"
   ]
  },
  {
   "cell_type": "code",
   "execution_count": 2,
   "metadata": {},
   "outputs": [],
   "source": [
    "# separate main drum components\n",
    "files_snare = glob('data/MDLib2.2/MDLib2.2/Sorted/Snare/Strike/*.wav')\n",
    "files_toms_rack = glob('data/MDLib2.2/MDLib2.2/Sorted/Rack Tom/Strike/*.wav')\n",
    "files_toms_floor = glob('data/MDLib2.2/MDLib2.2/Sorted/Floor Tom/Strike/*.wav')\n",
    "files_kick = glob('data/MDLib2.2/MDLib2.2/Sorted/Kick/*/*/*.wav')\n",
    "\n",
    "files_cymbals = glob('data/MDLib2.2/MDLib2.2/Sorted/Cymbals/*/*/*.wav')\n",
    "files_hihat = glob('data/MDLib2.2/MDLib2.2/Sorted/Cymbals/HiHat/*/*.wav')\n",
    "files_ride = glob('data/MDLib2.2/MDLib2.2/Sorted/Cymbals/Ride/Tip/*.wav')\n",
    "files_crash = glob('data/MDLib2.2/MDLib2.2/Sorted/Cymbals/Bright Crash/*/*.wav')\n",
    "files_dark_crash = glob('data/MDLib2.2/MDLib2.2/Sorted/Cymbals/Dark Crash/*/*.wav')\n",
    "\n",
    "# combine bright and dark crash files\n",
    "for i in files_dark_crash:\n",
    "    files_crash.append(i)\n",
    "\n",
    "#audio_files = glob('data/MDLib2.2/MDLib2.2/Sorted/*/*/*.wav')"
   ]
  },
  {
   "cell_type": "code",
   "execution_count": 3,
   "metadata": {},
   "outputs": [
    {
     "data": {
      "text/plain": [
       "['data/MDLib2.2/MDLib2.2/Sorted/Cymbals/Dark Crash\\\\Clamp\\\\DI_Dark Crash_Clamp_1111.1.wav',\n",
       " 'data/MDLib2.2/MDLib2.2/Sorted/Cymbals/Dark Crash\\\\Clamp\\\\DI_Dark Crash_Clamp_1111.2.wav',\n",
       " 'data/MDLib2.2/MDLib2.2/Sorted/Cymbals/Dark Crash\\\\Clamp\\\\DI_Dark Crash_Clamp_1111.3.wav',\n",
       " 'data/MDLib2.2/MDLib2.2/Sorted/Cymbals/Dark Crash\\\\Clamp\\\\DI_Dark Crash_Clamp_1111.4.wav',\n",
       " 'data/MDLib2.2/MDLib2.2/Sorted/Cymbals/Dark Crash\\\\Clamp\\\\DI_Dark Crash_Clamp_1112.1.wav',\n",
       " 'data/MDLib2.2/MDLib2.2/Sorted/Cymbals/Dark Crash\\\\Clamp\\\\DI_Dark Crash_Clamp_1112.2.wav',\n",
       " 'data/MDLib2.2/MDLib2.2/Sorted/Cymbals/Dark Crash\\\\Clamp\\\\DI_Dark Crash_Clamp_1112.3.wav',\n",
       " 'data/MDLib2.2/MDLib2.2/Sorted/Cymbals/Dark Crash\\\\Clamp\\\\DI_Dark Crash_Clamp_1112.4.wav',\n",
       " 'data/MDLib2.2/MDLib2.2/Sorted/Cymbals/Dark Crash\\\\Clamp\\\\DI_Dark Crash_Clamp_1113.1.wav',\n",
       " 'data/MDLib2.2/MDLib2.2/Sorted/Cymbals/Dark Crash\\\\Clamp\\\\DI_Dark Crash_Clamp_1113.2.wav',\n",
       " 'data/MDLib2.2/MDLib2.2/Sorted/Cymbals/Dark Crash\\\\Clamp\\\\DI_Dark Crash_Clamp_1113.3.wav',\n",
       " 'data/MDLib2.2/MDLib2.2/Sorted/Cymbals/Dark Crash\\\\Clamp\\\\DI_Dark Crash_Clamp_1113.4.wav',\n",
       " 'data/MDLib2.2/MDLib2.2/Sorted/Cymbals/Dark Crash\\\\Clamp\\\\DI_Dark Crash_Clamp_1114.1.wav',\n",
       " 'data/MDLib2.2/MDLib2.2/Sorted/Cymbals/Dark Crash\\\\Clamp\\\\DI_Dark Crash_Clamp_1114.2.wav',\n",
       " 'data/MDLib2.2/MDLib2.2/Sorted/Cymbals/Dark Crash\\\\Clamp\\\\DI_Dark Crash_Clamp_1114.3.wav',\n",
       " 'data/MDLib2.2/MDLib2.2/Sorted/Cymbals/Dark Crash\\\\Clamp\\\\DI_Dark Crash_Clamp_1114.4.wav',\n",
       " 'data/MDLib2.2/MDLib2.2/Sorted/Cymbals/Dark Crash\\\\Clamp\\\\IN_Dark Crash_Clamp_1111.1.wav',\n",
       " 'data/MDLib2.2/MDLib2.2/Sorted/Cymbals/Dark Crash\\\\Clamp\\\\IN_Dark Crash_Clamp_1111.2.wav',\n",
       " 'data/MDLib2.2/MDLib2.2/Sorted/Cymbals/Dark Crash\\\\Clamp\\\\IN_Dark Crash_Clamp_1111.3.wav',\n",
       " 'data/MDLib2.2/MDLib2.2/Sorted/Cymbals/Dark Crash\\\\Clamp\\\\IN_Dark Crash_Clamp_1111.4.wav',\n",
       " 'data/MDLib2.2/MDLib2.2/Sorted/Cymbals/Dark Crash\\\\Clamp\\\\IN_Dark Crash_Clamp_1112.1.wav',\n",
       " 'data/MDLib2.2/MDLib2.2/Sorted/Cymbals/Dark Crash\\\\Clamp\\\\IN_Dark Crash_Clamp_1112.2.wav',\n",
       " 'data/MDLib2.2/MDLib2.2/Sorted/Cymbals/Dark Crash\\\\Clamp\\\\IN_Dark Crash_Clamp_1112.3.wav',\n",
       " 'data/MDLib2.2/MDLib2.2/Sorted/Cymbals/Dark Crash\\\\Clamp\\\\IN_Dark Crash_Clamp_1112.4.wav',\n",
       " 'data/MDLib2.2/MDLib2.2/Sorted/Cymbals/Dark Crash\\\\Clamp\\\\IN_Dark Crash_Clamp_1113.1.wav',\n",
       " 'data/MDLib2.2/MDLib2.2/Sorted/Cymbals/Dark Crash\\\\Clamp\\\\IN_Dark Crash_Clamp_1113.2.wav',\n",
       " 'data/MDLib2.2/MDLib2.2/Sorted/Cymbals/Dark Crash\\\\Clamp\\\\IN_Dark Crash_Clamp_1113.3.wav',\n",
       " 'data/MDLib2.2/MDLib2.2/Sorted/Cymbals/Dark Crash\\\\Clamp\\\\IN_Dark Crash_Clamp_1113.4.wav',\n",
       " 'data/MDLib2.2/MDLib2.2/Sorted/Cymbals/Dark Crash\\\\Clamp\\\\IN_Dark Crash_Clamp_1114.1.wav',\n",
       " 'data/MDLib2.2/MDLib2.2/Sorted/Cymbals/Dark Crash\\\\Clamp\\\\IN_Dark Crash_Clamp_1114.2.wav',\n",
       " 'data/MDLib2.2/MDLib2.2/Sorted/Cymbals/Dark Crash\\\\Clamp\\\\IN_Dark Crash_Clamp_1114.3.wav',\n",
       " 'data/MDLib2.2/MDLib2.2/Sorted/Cymbals/Dark Crash\\\\Clamp\\\\IN_Dark Crash_Clamp_1114.4.wav',\n",
       " 'data/MDLib2.2/MDLib2.2/Sorted/Cymbals/Dark Crash\\\\Clamp\\\\MN_Dark Crash_Clamp_1111.1.wav',\n",
       " 'data/MDLib2.2/MDLib2.2/Sorted/Cymbals/Dark Crash\\\\Clamp\\\\MN_Dark Crash_Clamp_1111.2.wav',\n",
       " 'data/MDLib2.2/MDLib2.2/Sorted/Cymbals/Dark Crash\\\\Clamp\\\\MN_Dark Crash_Clamp_1111.3.wav',\n",
       " 'data/MDLib2.2/MDLib2.2/Sorted/Cymbals/Dark Crash\\\\Clamp\\\\MN_Dark Crash_Clamp_1111.4.wav',\n",
       " 'data/MDLib2.2/MDLib2.2/Sorted/Cymbals/Dark Crash\\\\Clamp\\\\MN_Dark Crash_Clamp_1112.1.wav',\n",
       " 'data/MDLib2.2/MDLib2.2/Sorted/Cymbals/Dark Crash\\\\Clamp\\\\MN_Dark Crash_Clamp_1112.2.wav',\n",
       " 'data/MDLib2.2/MDLib2.2/Sorted/Cymbals/Dark Crash\\\\Clamp\\\\MN_Dark Crash_Clamp_1112.3.wav',\n",
       " 'data/MDLib2.2/MDLib2.2/Sorted/Cymbals/Dark Crash\\\\Clamp\\\\MN_Dark Crash_Clamp_1112.4.wav',\n",
       " 'data/MDLib2.2/MDLib2.2/Sorted/Cymbals/Dark Crash\\\\Clamp\\\\MN_Dark Crash_Clamp_1113.1.wav',\n",
       " 'data/MDLib2.2/MDLib2.2/Sorted/Cymbals/Dark Crash\\\\Clamp\\\\MN_Dark Crash_Clamp_1113.2.wav',\n",
       " 'data/MDLib2.2/MDLib2.2/Sorted/Cymbals/Dark Crash\\\\Clamp\\\\MN_Dark Crash_Clamp_1113.3.wav',\n",
       " 'data/MDLib2.2/MDLib2.2/Sorted/Cymbals/Dark Crash\\\\Clamp\\\\MN_Dark Crash_Clamp_1113.4.wav',\n",
       " 'data/MDLib2.2/MDLib2.2/Sorted/Cymbals/Dark Crash\\\\Clamp\\\\MN_Dark Crash_Clamp_1114.1.wav',\n",
       " 'data/MDLib2.2/MDLib2.2/Sorted/Cymbals/Dark Crash\\\\Clamp\\\\MN_Dark Crash_Clamp_1114.2.wav',\n",
       " 'data/MDLib2.2/MDLib2.2/Sorted/Cymbals/Dark Crash\\\\Clamp\\\\MN_Dark Crash_Clamp_1114.3.wav',\n",
       " 'data/MDLib2.2/MDLib2.2/Sorted/Cymbals/Dark Crash\\\\Clamp\\\\MN_Dark Crash_Clamp_1114.4.wav',\n",
       " 'data/MDLib2.2/MDLib2.2/Sorted/Cymbals/Dark Crash\\\\Clamp\\\\ST_Dark Crash_Clamp_1111.1.wav',\n",
       " 'data/MDLib2.2/MDLib2.2/Sorted/Cymbals/Dark Crash\\\\Clamp\\\\ST_Dark Crash_Clamp_1111.2.wav',\n",
       " 'data/MDLib2.2/MDLib2.2/Sorted/Cymbals/Dark Crash\\\\Clamp\\\\ST_Dark Crash_Clamp_1111.3.wav',\n",
       " 'data/MDLib2.2/MDLib2.2/Sorted/Cymbals/Dark Crash\\\\Clamp\\\\ST_Dark Crash_Clamp_1111.4.wav',\n",
       " 'data/MDLib2.2/MDLib2.2/Sorted/Cymbals/Dark Crash\\\\Clamp\\\\ST_Dark Crash_Clamp_1112.1.wav',\n",
       " 'data/MDLib2.2/MDLib2.2/Sorted/Cymbals/Dark Crash\\\\Clamp\\\\ST_Dark Crash_Clamp_1112.2.wav',\n",
       " 'data/MDLib2.2/MDLib2.2/Sorted/Cymbals/Dark Crash\\\\Clamp\\\\ST_Dark Crash_Clamp_1112.3.wav',\n",
       " 'data/MDLib2.2/MDLib2.2/Sorted/Cymbals/Dark Crash\\\\Clamp\\\\ST_Dark Crash_Clamp_1112.4.wav',\n",
       " 'data/MDLib2.2/MDLib2.2/Sorted/Cymbals/Dark Crash\\\\Clamp\\\\ST_Dark Crash_Clamp_1113.1.wav',\n",
       " 'data/MDLib2.2/MDLib2.2/Sorted/Cymbals/Dark Crash\\\\Clamp\\\\ST_Dark Crash_Clamp_1113.2.wav',\n",
       " 'data/MDLib2.2/MDLib2.2/Sorted/Cymbals/Dark Crash\\\\Clamp\\\\ST_Dark Crash_Clamp_1113.3.wav',\n",
       " 'data/MDLib2.2/MDLib2.2/Sorted/Cymbals/Dark Crash\\\\Clamp\\\\ST_Dark Crash_Clamp_1113.4.wav',\n",
       " 'data/MDLib2.2/MDLib2.2/Sorted/Cymbals/Dark Crash\\\\Clamp\\\\ST_Dark Crash_Clamp_1114.1.wav',\n",
       " 'data/MDLib2.2/MDLib2.2/Sorted/Cymbals/Dark Crash\\\\Clamp\\\\ST_Dark Crash_Clamp_1114.2.wav',\n",
       " 'data/MDLib2.2/MDLib2.2/Sorted/Cymbals/Dark Crash\\\\Clamp\\\\ST_Dark Crash_Clamp_1114.3.wav',\n",
       " 'data/MDLib2.2/MDLib2.2/Sorted/Cymbals/Dark Crash\\\\Clamp\\\\ST_Dark Crash_Clamp_1114.4.wav',\n",
       " 'data/MDLib2.2/MDLib2.2/Sorted/Cymbals/Dark Crash\\\\Crash\\\\DI_Dark Crash_Crash_1111.1.wav',\n",
       " 'data/MDLib2.2/MDLib2.2/Sorted/Cymbals/Dark Crash\\\\Crash\\\\DI_Dark Crash_Crash_1111.2.wav',\n",
       " 'data/MDLib2.2/MDLib2.2/Sorted/Cymbals/Dark Crash\\\\Crash\\\\DI_Dark Crash_Crash_1111.3.wav',\n",
       " 'data/MDLib2.2/MDLib2.2/Sorted/Cymbals/Dark Crash\\\\Crash\\\\DI_Dark Crash_Crash_1111.4.wav',\n",
       " 'data/MDLib2.2/MDLib2.2/Sorted/Cymbals/Dark Crash\\\\Crash\\\\DI_Dark Crash_Crash_1112.1.wav',\n",
       " 'data/MDLib2.2/MDLib2.2/Sorted/Cymbals/Dark Crash\\\\Crash\\\\DI_Dark Crash_Crash_1112.2.wav',\n",
       " 'data/MDLib2.2/MDLib2.2/Sorted/Cymbals/Dark Crash\\\\Crash\\\\DI_Dark Crash_Crash_1112.3.wav',\n",
       " 'data/MDLib2.2/MDLib2.2/Sorted/Cymbals/Dark Crash\\\\Crash\\\\DI_Dark Crash_Crash_1112.4.wav',\n",
       " 'data/MDLib2.2/MDLib2.2/Sorted/Cymbals/Dark Crash\\\\Crash\\\\DI_Dark Crash_Crash_1113.1.wav',\n",
       " 'data/MDLib2.2/MDLib2.2/Sorted/Cymbals/Dark Crash\\\\Crash\\\\DI_Dark Crash_Crash_1113.2.wav',\n",
       " 'data/MDLib2.2/MDLib2.2/Sorted/Cymbals/Dark Crash\\\\Crash\\\\DI_Dark Crash_Crash_1113.3.wav',\n",
       " 'data/MDLib2.2/MDLib2.2/Sorted/Cymbals/Dark Crash\\\\Crash\\\\DI_Dark Crash_Crash_1113.4.wav',\n",
       " 'data/MDLib2.2/MDLib2.2/Sorted/Cymbals/Dark Crash\\\\Crash\\\\DI_Dark Crash_Crash_1114.1.wav',\n",
       " 'data/MDLib2.2/MDLib2.2/Sorted/Cymbals/Dark Crash\\\\Crash\\\\DI_Dark Crash_Crash_1114.2.wav',\n",
       " 'data/MDLib2.2/MDLib2.2/Sorted/Cymbals/Dark Crash\\\\Crash\\\\DI_Dark Crash_Crash_1114.3.wav',\n",
       " 'data/MDLib2.2/MDLib2.2/Sorted/Cymbals/Dark Crash\\\\Crash\\\\DI_Dark Crash_Crash_1114.4.wav',\n",
       " 'data/MDLib2.2/MDLib2.2/Sorted/Cymbals/Dark Crash\\\\Crash\\\\IN_Dark Crash_Crash_1111.1.wav',\n",
       " 'data/MDLib2.2/MDLib2.2/Sorted/Cymbals/Dark Crash\\\\Crash\\\\IN_Dark Crash_Crash_1111.2.wav',\n",
       " 'data/MDLib2.2/MDLib2.2/Sorted/Cymbals/Dark Crash\\\\Crash\\\\IN_Dark Crash_Crash_1111.3.wav',\n",
       " 'data/MDLib2.2/MDLib2.2/Sorted/Cymbals/Dark Crash\\\\Crash\\\\IN_Dark Crash_Crash_1111.4.wav',\n",
       " 'data/MDLib2.2/MDLib2.2/Sorted/Cymbals/Dark Crash\\\\Crash\\\\IN_Dark Crash_Crash_1112.1.wav',\n",
       " 'data/MDLib2.2/MDLib2.2/Sorted/Cymbals/Dark Crash\\\\Crash\\\\IN_Dark Crash_Crash_1112.2.wav',\n",
       " 'data/MDLib2.2/MDLib2.2/Sorted/Cymbals/Dark Crash\\\\Crash\\\\IN_Dark Crash_Crash_1112.3.wav',\n",
       " 'data/MDLib2.2/MDLib2.2/Sorted/Cymbals/Dark Crash\\\\Crash\\\\IN_Dark Crash_Crash_1112.4.wav',\n",
       " 'data/MDLib2.2/MDLib2.2/Sorted/Cymbals/Dark Crash\\\\Crash\\\\IN_Dark Crash_Crash_1113.1.wav',\n",
       " 'data/MDLib2.2/MDLib2.2/Sorted/Cymbals/Dark Crash\\\\Crash\\\\IN_Dark Crash_Crash_1113.2.wav',\n",
       " 'data/MDLib2.2/MDLib2.2/Sorted/Cymbals/Dark Crash\\\\Crash\\\\IN_Dark Crash_Crash_1113.3.wav',\n",
       " 'data/MDLib2.2/MDLib2.2/Sorted/Cymbals/Dark Crash\\\\Crash\\\\IN_Dark Crash_Crash_1113.4.wav',\n",
       " 'data/MDLib2.2/MDLib2.2/Sorted/Cymbals/Dark Crash\\\\Crash\\\\IN_Dark Crash_Crash_1114.1.wav',\n",
       " 'data/MDLib2.2/MDLib2.2/Sorted/Cymbals/Dark Crash\\\\Crash\\\\IN_Dark Crash_Crash_1114.2.wav',\n",
       " 'data/MDLib2.2/MDLib2.2/Sorted/Cymbals/Dark Crash\\\\Crash\\\\IN_Dark Crash_Crash_1114.3.wav',\n",
       " 'data/MDLib2.2/MDLib2.2/Sorted/Cymbals/Dark Crash\\\\Crash\\\\IN_Dark Crash_Crash_1114.4.wav',\n",
       " 'data/MDLib2.2/MDLib2.2/Sorted/Cymbals/Dark Crash\\\\Crash\\\\MN_Dark Crash_Crash_1111.1.wav',\n",
       " 'data/MDLib2.2/MDLib2.2/Sorted/Cymbals/Dark Crash\\\\Crash\\\\MN_Dark Crash_Crash_1111.2.wav',\n",
       " 'data/MDLib2.2/MDLib2.2/Sorted/Cymbals/Dark Crash\\\\Crash\\\\MN_Dark Crash_Crash_1111.3.wav',\n",
       " 'data/MDLib2.2/MDLib2.2/Sorted/Cymbals/Dark Crash\\\\Crash\\\\MN_Dark Crash_Crash_1111.4.wav',\n",
       " 'data/MDLib2.2/MDLib2.2/Sorted/Cymbals/Dark Crash\\\\Crash\\\\MN_Dark Crash_Crash_1112.1.wav',\n",
       " 'data/MDLib2.2/MDLib2.2/Sorted/Cymbals/Dark Crash\\\\Crash\\\\MN_Dark Crash_Crash_1112.2.wav',\n",
       " 'data/MDLib2.2/MDLib2.2/Sorted/Cymbals/Dark Crash\\\\Crash\\\\MN_Dark Crash_Crash_1112.3.wav',\n",
       " 'data/MDLib2.2/MDLib2.2/Sorted/Cymbals/Dark Crash\\\\Crash\\\\MN_Dark Crash_Crash_1112.4.wav',\n",
       " 'data/MDLib2.2/MDLib2.2/Sorted/Cymbals/Dark Crash\\\\Crash\\\\MN_Dark Crash_Crash_1113.1.wav',\n",
       " 'data/MDLib2.2/MDLib2.2/Sorted/Cymbals/Dark Crash\\\\Crash\\\\MN_Dark Crash_Crash_1113.2.wav',\n",
       " 'data/MDLib2.2/MDLib2.2/Sorted/Cymbals/Dark Crash\\\\Crash\\\\MN_Dark Crash_Crash_1113.3.wav',\n",
       " 'data/MDLib2.2/MDLib2.2/Sorted/Cymbals/Dark Crash\\\\Crash\\\\MN_Dark Crash_Crash_1113.4.wav',\n",
       " 'data/MDLib2.2/MDLib2.2/Sorted/Cymbals/Dark Crash\\\\Crash\\\\MN_Dark Crash_Crash_1114.1.wav',\n",
       " 'data/MDLib2.2/MDLib2.2/Sorted/Cymbals/Dark Crash\\\\Crash\\\\MN_Dark Crash_Crash_1114.2.wav',\n",
       " 'data/MDLib2.2/MDLib2.2/Sorted/Cymbals/Dark Crash\\\\Crash\\\\MN_Dark Crash_Crash_1114.3.wav',\n",
       " 'data/MDLib2.2/MDLib2.2/Sorted/Cymbals/Dark Crash\\\\Crash\\\\MN_Dark Crash_Crash_1114.4.wav',\n",
       " 'data/MDLib2.2/MDLib2.2/Sorted/Cymbals/Dark Crash\\\\Crash\\\\ST_Dark Crash_Crash_1111.1.wav',\n",
       " 'data/MDLib2.2/MDLib2.2/Sorted/Cymbals/Dark Crash\\\\Crash\\\\ST_Dark Crash_Crash_1111.2.wav',\n",
       " 'data/MDLib2.2/MDLib2.2/Sorted/Cymbals/Dark Crash\\\\Crash\\\\ST_Dark Crash_Crash_1111.3.wav',\n",
       " 'data/MDLib2.2/MDLib2.2/Sorted/Cymbals/Dark Crash\\\\Crash\\\\ST_Dark Crash_Crash_1111.4.wav',\n",
       " 'data/MDLib2.2/MDLib2.2/Sorted/Cymbals/Dark Crash\\\\Crash\\\\ST_Dark Crash_Crash_1112.1.wav',\n",
       " 'data/MDLib2.2/MDLib2.2/Sorted/Cymbals/Dark Crash\\\\Crash\\\\ST_Dark Crash_Crash_1112.2.wav',\n",
       " 'data/MDLib2.2/MDLib2.2/Sorted/Cymbals/Dark Crash\\\\Crash\\\\ST_Dark Crash_Crash_1112.3.wav',\n",
       " 'data/MDLib2.2/MDLib2.2/Sorted/Cymbals/Dark Crash\\\\Crash\\\\ST_Dark Crash_Crash_1112.4.wav',\n",
       " 'data/MDLib2.2/MDLib2.2/Sorted/Cymbals/Dark Crash\\\\Crash\\\\ST_Dark Crash_Crash_1113.1.wav',\n",
       " 'data/MDLib2.2/MDLib2.2/Sorted/Cymbals/Dark Crash\\\\Crash\\\\ST_Dark Crash_Crash_1113.2.wav',\n",
       " 'data/MDLib2.2/MDLib2.2/Sorted/Cymbals/Dark Crash\\\\Crash\\\\ST_Dark Crash_Crash_1113.3.wav',\n",
       " 'data/MDLib2.2/MDLib2.2/Sorted/Cymbals/Dark Crash\\\\Crash\\\\ST_Dark Crash_Crash_1113.4.wav',\n",
       " 'data/MDLib2.2/MDLib2.2/Sorted/Cymbals/Dark Crash\\\\Crash\\\\ST_Dark Crash_Crash_1114.1.wav',\n",
       " 'data/MDLib2.2/MDLib2.2/Sorted/Cymbals/Dark Crash\\\\Crash\\\\ST_Dark Crash_Crash_1114.2.wav',\n",
       " 'data/MDLib2.2/MDLib2.2/Sorted/Cymbals/Dark Crash\\\\Crash\\\\ST_Dark Crash_Crash_1114.3.wav',\n",
       " 'data/MDLib2.2/MDLib2.2/Sorted/Cymbals/Dark Crash\\\\Crash\\\\ST_Dark Crash_Crash_1114.4.wav',\n",
       " 'data/MDLib2.2/MDLib2.2/Sorted/Cymbals/Dark Crash\\\\Tip\\\\DI_Dark Crash_Tip_1111.1.wav',\n",
       " 'data/MDLib2.2/MDLib2.2/Sorted/Cymbals/Dark Crash\\\\Tip\\\\DI_Dark Crash_Tip_1111.2.wav',\n",
       " 'data/MDLib2.2/MDLib2.2/Sorted/Cymbals/Dark Crash\\\\Tip\\\\DI_Dark Crash_Tip_1111.3.wav',\n",
       " 'data/MDLib2.2/MDLib2.2/Sorted/Cymbals/Dark Crash\\\\Tip\\\\DI_Dark Crash_Tip_1111.4.wav',\n",
       " 'data/MDLib2.2/MDLib2.2/Sorted/Cymbals/Dark Crash\\\\Tip\\\\DI_Dark Crash_Tip_1112.1.wav',\n",
       " 'data/MDLib2.2/MDLib2.2/Sorted/Cymbals/Dark Crash\\\\Tip\\\\DI_Dark Crash_Tip_1112.2.wav',\n",
       " 'data/MDLib2.2/MDLib2.2/Sorted/Cymbals/Dark Crash\\\\Tip\\\\DI_Dark Crash_Tip_1112.3.wav',\n",
       " 'data/MDLib2.2/MDLib2.2/Sorted/Cymbals/Dark Crash\\\\Tip\\\\DI_Dark Crash_Tip_1112.4.wav',\n",
       " 'data/MDLib2.2/MDLib2.2/Sorted/Cymbals/Dark Crash\\\\Tip\\\\DI_Dark Crash_Tip_1113.1.wav',\n",
       " 'data/MDLib2.2/MDLib2.2/Sorted/Cymbals/Dark Crash\\\\Tip\\\\DI_Dark Crash_Tip_1113.2.wav',\n",
       " 'data/MDLib2.2/MDLib2.2/Sorted/Cymbals/Dark Crash\\\\Tip\\\\DI_Dark Crash_Tip_1113.3.wav',\n",
       " 'data/MDLib2.2/MDLib2.2/Sorted/Cymbals/Dark Crash\\\\Tip\\\\DI_Dark Crash_Tip_1113.4.wav',\n",
       " 'data/MDLib2.2/MDLib2.2/Sorted/Cymbals/Dark Crash\\\\Tip\\\\DI_Dark Crash_Tip_1114.1.wav',\n",
       " 'data/MDLib2.2/MDLib2.2/Sorted/Cymbals/Dark Crash\\\\Tip\\\\DI_Dark Crash_Tip_1114.2.wav',\n",
       " 'data/MDLib2.2/MDLib2.2/Sorted/Cymbals/Dark Crash\\\\Tip\\\\DI_Dark Crash_Tip_1114.3.wav',\n",
       " 'data/MDLib2.2/MDLib2.2/Sorted/Cymbals/Dark Crash\\\\Tip\\\\DI_Dark Crash_Tip_1114.4.wav',\n",
       " 'data/MDLib2.2/MDLib2.2/Sorted/Cymbals/Dark Crash\\\\Tip\\\\DI_Dark Crash_Tip_1121.1.wav',\n",
       " 'data/MDLib2.2/MDLib2.2/Sorted/Cymbals/Dark Crash\\\\Tip\\\\DI_Dark Crash_Tip_1121.2.wav',\n",
       " 'data/MDLib2.2/MDLib2.2/Sorted/Cymbals/Dark Crash\\\\Tip\\\\DI_Dark Crash_Tip_1121.3.wav',\n",
       " 'data/MDLib2.2/MDLib2.2/Sorted/Cymbals/Dark Crash\\\\Tip\\\\DI_Dark Crash_Tip_1121.4.wav',\n",
       " 'data/MDLib2.2/MDLib2.2/Sorted/Cymbals/Dark Crash\\\\Tip\\\\DI_Dark Crash_Tip_1122.1.wav',\n",
       " 'data/MDLib2.2/MDLib2.2/Sorted/Cymbals/Dark Crash\\\\Tip\\\\DI_Dark Crash_Tip_1122.2.wav',\n",
       " 'data/MDLib2.2/MDLib2.2/Sorted/Cymbals/Dark Crash\\\\Tip\\\\DI_Dark Crash_Tip_1122.3.wav',\n",
       " 'data/MDLib2.2/MDLib2.2/Sorted/Cymbals/Dark Crash\\\\Tip\\\\DI_Dark Crash_Tip_1122.4.wav',\n",
       " 'data/MDLib2.2/MDLib2.2/Sorted/Cymbals/Dark Crash\\\\Tip\\\\DI_Dark Crash_Tip_1123.1.wav',\n",
       " 'data/MDLib2.2/MDLib2.2/Sorted/Cymbals/Dark Crash\\\\Tip\\\\DI_Dark Crash_Tip_1123.2.wav',\n",
       " 'data/MDLib2.2/MDLib2.2/Sorted/Cymbals/Dark Crash\\\\Tip\\\\DI_Dark Crash_Tip_1123.3.wav',\n",
       " 'data/MDLib2.2/MDLib2.2/Sorted/Cymbals/Dark Crash\\\\Tip\\\\DI_Dark Crash_Tip_1123.4.wav',\n",
       " 'data/MDLib2.2/MDLib2.2/Sorted/Cymbals/Dark Crash\\\\Tip\\\\DI_Dark Crash_Tip_1124.1.wav',\n",
       " 'data/MDLib2.2/MDLib2.2/Sorted/Cymbals/Dark Crash\\\\Tip\\\\DI_Dark Crash_Tip_1124.2.wav',\n",
       " 'data/MDLib2.2/MDLib2.2/Sorted/Cymbals/Dark Crash\\\\Tip\\\\DI_Dark Crash_Tip_1124.3.wav',\n",
       " 'data/MDLib2.2/MDLib2.2/Sorted/Cymbals/Dark Crash\\\\Tip\\\\DI_Dark Crash_Tip_1124.4.wav',\n",
       " 'data/MDLib2.2/MDLib2.2/Sorted/Cymbals/Dark Crash\\\\Tip\\\\DI_Dark Crash_Tip_1131.1.wav',\n",
       " 'data/MDLib2.2/MDLib2.2/Sorted/Cymbals/Dark Crash\\\\Tip\\\\DI_Dark Crash_Tip_1131.2.wav',\n",
       " 'data/MDLib2.2/MDLib2.2/Sorted/Cymbals/Dark Crash\\\\Tip\\\\DI_Dark Crash_Tip_1131.3.wav',\n",
       " 'data/MDLib2.2/MDLib2.2/Sorted/Cymbals/Dark Crash\\\\Tip\\\\DI_Dark Crash_Tip_1131.4.wav',\n",
       " 'data/MDLib2.2/MDLib2.2/Sorted/Cymbals/Dark Crash\\\\Tip\\\\DI_Dark Crash_Tip_1132.1.wav',\n",
       " 'data/MDLib2.2/MDLib2.2/Sorted/Cymbals/Dark Crash\\\\Tip\\\\DI_Dark Crash_Tip_1132.2.wav',\n",
       " 'data/MDLib2.2/MDLib2.2/Sorted/Cymbals/Dark Crash\\\\Tip\\\\DI_Dark Crash_Tip_1132.3.wav',\n",
       " 'data/MDLib2.2/MDLib2.2/Sorted/Cymbals/Dark Crash\\\\Tip\\\\DI_Dark Crash_Tip_1132.4.wav',\n",
       " 'data/MDLib2.2/MDLib2.2/Sorted/Cymbals/Dark Crash\\\\Tip\\\\DI_Dark Crash_Tip_1133.1.wav',\n",
       " 'data/MDLib2.2/MDLib2.2/Sorted/Cymbals/Dark Crash\\\\Tip\\\\DI_Dark Crash_Tip_1133.2.wav',\n",
       " 'data/MDLib2.2/MDLib2.2/Sorted/Cymbals/Dark Crash\\\\Tip\\\\DI_Dark Crash_Tip_1133.3.wav',\n",
       " 'data/MDLib2.2/MDLib2.2/Sorted/Cymbals/Dark Crash\\\\Tip\\\\DI_Dark Crash_Tip_1133.4.wav',\n",
       " 'data/MDLib2.2/MDLib2.2/Sorted/Cymbals/Dark Crash\\\\Tip\\\\DI_Dark Crash_Tip_1134.1.wav',\n",
       " 'data/MDLib2.2/MDLib2.2/Sorted/Cymbals/Dark Crash\\\\Tip\\\\DI_Dark Crash_Tip_1134.2.wav',\n",
       " 'data/MDLib2.2/MDLib2.2/Sorted/Cymbals/Dark Crash\\\\Tip\\\\DI_Dark Crash_Tip_1134.3.wav',\n",
       " 'data/MDLib2.2/MDLib2.2/Sorted/Cymbals/Dark Crash\\\\Tip\\\\DI_Dark Crash_Tip_1134.4.wav',\n",
       " 'data/MDLib2.2/MDLib2.2/Sorted/Cymbals/Dark Crash\\\\Tip\\\\IN_Dark Crash_Tip_1111.1.wav',\n",
       " 'data/MDLib2.2/MDLib2.2/Sorted/Cymbals/Dark Crash\\\\Tip\\\\IN_Dark Crash_Tip_1111.2.wav',\n",
       " 'data/MDLib2.2/MDLib2.2/Sorted/Cymbals/Dark Crash\\\\Tip\\\\IN_Dark Crash_Tip_1111.3.wav',\n",
       " 'data/MDLib2.2/MDLib2.2/Sorted/Cymbals/Dark Crash\\\\Tip\\\\IN_Dark Crash_Tip_1111.4.wav',\n",
       " 'data/MDLib2.2/MDLib2.2/Sorted/Cymbals/Dark Crash\\\\Tip\\\\IN_Dark Crash_Tip_1112.1.wav',\n",
       " 'data/MDLib2.2/MDLib2.2/Sorted/Cymbals/Dark Crash\\\\Tip\\\\IN_Dark Crash_Tip_1112.2.wav',\n",
       " 'data/MDLib2.2/MDLib2.2/Sorted/Cymbals/Dark Crash\\\\Tip\\\\IN_Dark Crash_Tip_1112.3.wav',\n",
       " 'data/MDLib2.2/MDLib2.2/Sorted/Cymbals/Dark Crash\\\\Tip\\\\IN_Dark Crash_Tip_1112.4.wav',\n",
       " 'data/MDLib2.2/MDLib2.2/Sorted/Cymbals/Dark Crash\\\\Tip\\\\IN_Dark Crash_Tip_1113.1.wav',\n",
       " 'data/MDLib2.2/MDLib2.2/Sorted/Cymbals/Dark Crash\\\\Tip\\\\IN_Dark Crash_Tip_1113.2.wav',\n",
       " 'data/MDLib2.2/MDLib2.2/Sorted/Cymbals/Dark Crash\\\\Tip\\\\IN_Dark Crash_Tip_1113.3.wav',\n",
       " 'data/MDLib2.2/MDLib2.2/Sorted/Cymbals/Dark Crash\\\\Tip\\\\IN_Dark Crash_Tip_1113.4.wav',\n",
       " 'data/MDLib2.2/MDLib2.2/Sorted/Cymbals/Dark Crash\\\\Tip\\\\IN_Dark Crash_Tip_1114.1.wav',\n",
       " 'data/MDLib2.2/MDLib2.2/Sorted/Cymbals/Dark Crash\\\\Tip\\\\IN_Dark Crash_Tip_1114.2.wav',\n",
       " 'data/MDLib2.2/MDLib2.2/Sorted/Cymbals/Dark Crash\\\\Tip\\\\IN_Dark Crash_Tip_1114.3.wav',\n",
       " 'data/MDLib2.2/MDLib2.2/Sorted/Cymbals/Dark Crash\\\\Tip\\\\IN_Dark Crash_Tip_1114.4.wav',\n",
       " 'data/MDLib2.2/MDLib2.2/Sorted/Cymbals/Dark Crash\\\\Tip\\\\IN_Dark Crash_Tip_1121.1.wav',\n",
       " 'data/MDLib2.2/MDLib2.2/Sorted/Cymbals/Dark Crash\\\\Tip\\\\IN_Dark Crash_Tip_1121.2.wav',\n",
       " 'data/MDLib2.2/MDLib2.2/Sorted/Cymbals/Dark Crash\\\\Tip\\\\IN_Dark Crash_Tip_1121.3.wav',\n",
       " 'data/MDLib2.2/MDLib2.2/Sorted/Cymbals/Dark Crash\\\\Tip\\\\IN_Dark Crash_Tip_1121.4.wav',\n",
       " 'data/MDLib2.2/MDLib2.2/Sorted/Cymbals/Dark Crash\\\\Tip\\\\IN_Dark Crash_Tip_1122.1.wav',\n",
       " 'data/MDLib2.2/MDLib2.2/Sorted/Cymbals/Dark Crash\\\\Tip\\\\IN_Dark Crash_Tip_1122.2.wav',\n",
       " 'data/MDLib2.2/MDLib2.2/Sorted/Cymbals/Dark Crash\\\\Tip\\\\IN_Dark Crash_Tip_1122.3.wav',\n",
       " 'data/MDLib2.2/MDLib2.2/Sorted/Cymbals/Dark Crash\\\\Tip\\\\IN_Dark Crash_Tip_1122.4.wav',\n",
       " 'data/MDLib2.2/MDLib2.2/Sorted/Cymbals/Dark Crash\\\\Tip\\\\IN_Dark Crash_Tip_1123.1.wav',\n",
       " 'data/MDLib2.2/MDLib2.2/Sorted/Cymbals/Dark Crash\\\\Tip\\\\IN_Dark Crash_Tip_1123.2.wav',\n",
       " 'data/MDLib2.2/MDLib2.2/Sorted/Cymbals/Dark Crash\\\\Tip\\\\IN_Dark Crash_Tip_1123.3.wav',\n",
       " 'data/MDLib2.2/MDLib2.2/Sorted/Cymbals/Dark Crash\\\\Tip\\\\IN_Dark Crash_Tip_1123.4.wav',\n",
       " 'data/MDLib2.2/MDLib2.2/Sorted/Cymbals/Dark Crash\\\\Tip\\\\IN_Dark Crash_Tip_1124.1.wav',\n",
       " 'data/MDLib2.2/MDLib2.2/Sorted/Cymbals/Dark Crash\\\\Tip\\\\IN_Dark Crash_Tip_1124.2.wav',\n",
       " 'data/MDLib2.2/MDLib2.2/Sorted/Cymbals/Dark Crash\\\\Tip\\\\IN_Dark Crash_Tip_1124.3.wav',\n",
       " 'data/MDLib2.2/MDLib2.2/Sorted/Cymbals/Dark Crash\\\\Tip\\\\IN_Dark Crash_Tip_1124.4.wav',\n",
       " 'data/MDLib2.2/MDLib2.2/Sorted/Cymbals/Dark Crash\\\\Tip\\\\IN_Dark Crash_Tip_1131.1.wav',\n",
       " 'data/MDLib2.2/MDLib2.2/Sorted/Cymbals/Dark Crash\\\\Tip\\\\IN_Dark Crash_Tip_1131.2.wav',\n",
       " 'data/MDLib2.2/MDLib2.2/Sorted/Cymbals/Dark Crash\\\\Tip\\\\IN_Dark Crash_Tip_1131.3.wav',\n",
       " 'data/MDLib2.2/MDLib2.2/Sorted/Cymbals/Dark Crash\\\\Tip\\\\IN_Dark Crash_Tip_1131.4.wav',\n",
       " 'data/MDLib2.2/MDLib2.2/Sorted/Cymbals/Dark Crash\\\\Tip\\\\IN_Dark Crash_Tip_1132.1.wav',\n",
       " 'data/MDLib2.2/MDLib2.2/Sorted/Cymbals/Dark Crash\\\\Tip\\\\IN_Dark Crash_Tip_1132.2.wav',\n",
       " 'data/MDLib2.2/MDLib2.2/Sorted/Cymbals/Dark Crash\\\\Tip\\\\IN_Dark Crash_Tip_1132.3.wav',\n",
       " 'data/MDLib2.2/MDLib2.2/Sorted/Cymbals/Dark Crash\\\\Tip\\\\IN_Dark Crash_Tip_1132.4.wav',\n",
       " 'data/MDLib2.2/MDLib2.2/Sorted/Cymbals/Dark Crash\\\\Tip\\\\IN_Dark Crash_Tip_1133.1.wav',\n",
       " 'data/MDLib2.2/MDLib2.2/Sorted/Cymbals/Dark Crash\\\\Tip\\\\IN_Dark Crash_Tip_1133.2.wav',\n",
       " 'data/MDLib2.2/MDLib2.2/Sorted/Cymbals/Dark Crash\\\\Tip\\\\IN_Dark Crash_Tip_1133.3.wav',\n",
       " 'data/MDLib2.2/MDLib2.2/Sorted/Cymbals/Dark Crash\\\\Tip\\\\IN_Dark Crash_Tip_1133.4.wav',\n",
       " 'data/MDLib2.2/MDLib2.2/Sorted/Cymbals/Dark Crash\\\\Tip\\\\IN_Dark Crash_Tip_1134.1.wav',\n",
       " 'data/MDLib2.2/MDLib2.2/Sorted/Cymbals/Dark Crash\\\\Tip\\\\IN_Dark Crash_Tip_1134.2.wav',\n",
       " 'data/MDLib2.2/MDLib2.2/Sorted/Cymbals/Dark Crash\\\\Tip\\\\IN_Dark Crash_Tip_1134.3.wav',\n",
       " 'data/MDLib2.2/MDLib2.2/Sorted/Cymbals/Dark Crash\\\\Tip\\\\IN_Dark Crash_Tip_1134.4.wav',\n",
       " 'data/MDLib2.2/MDLib2.2/Sorted/Cymbals/Dark Crash\\\\Tip\\\\MN_Dark Crash_Tip_1111.1.wav',\n",
       " 'data/MDLib2.2/MDLib2.2/Sorted/Cymbals/Dark Crash\\\\Tip\\\\MN_Dark Crash_Tip_1111.2.wav',\n",
       " 'data/MDLib2.2/MDLib2.2/Sorted/Cymbals/Dark Crash\\\\Tip\\\\MN_Dark Crash_Tip_1111.3.wav',\n",
       " 'data/MDLib2.2/MDLib2.2/Sorted/Cymbals/Dark Crash\\\\Tip\\\\MN_Dark Crash_Tip_1111.4.wav',\n",
       " 'data/MDLib2.2/MDLib2.2/Sorted/Cymbals/Dark Crash\\\\Tip\\\\MN_Dark Crash_Tip_1112.1.wav',\n",
       " 'data/MDLib2.2/MDLib2.2/Sorted/Cymbals/Dark Crash\\\\Tip\\\\MN_Dark Crash_Tip_1112.2.wav',\n",
       " 'data/MDLib2.2/MDLib2.2/Sorted/Cymbals/Dark Crash\\\\Tip\\\\MN_Dark Crash_Tip_1112.3.wav',\n",
       " 'data/MDLib2.2/MDLib2.2/Sorted/Cymbals/Dark Crash\\\\Tip\\\\MN_Dark Crash_Tip_1112.4.wav',\n",
       " 'data/MDLib2.2/MDLib2.2/Sorted/Cymbals/Dark Crash\\\\Tip\\\\MN_Dark Crash_Tip_1113.1.wav',\n",
       " 'data/MDLib2.2/MDLib2.2/Sorted/Cymbals/Dark Crash\\\\Tip\\\\MN_Dark Crash_Tip_1113.2.wav',\n",
       " 'data/MDLib2.2/MDLib2.2/Sorted/Cymbals/Dark Crash\\\\Tip\\\\MN_Dark Crash_Tip_1113.3.wav',\n",
       " 'data/MDLib2.2/MDLib2.2/Sorted/Cymbals/Dark Crash\\\\Tip\\\\MN_Dark Crash_Tip_1113.4.wav',\n",
       " 'data/MDLib2.2/MDLib2.2/Sorted/Cymbals/Dark Crash\\\\Tip\\\\MN_Dark Crash_Tip_1114.1.wav',\n",
       " 'data/MDLib2.2/MDLib2.2/Sorted/Cymbals/Dark Crash\\\\Tip\\\\MN_Dark Crash_Tip_1114.2.wav',\n",
       " 'data/MDLib2.2/MDLib2.2/Sorted/Cymbals/Dark Crash\\\\Tip\\\\MN_Dark Crash_Tip_1114.3.wav',\n",
       " 'data/MDLib2.2/MDLib2.2/Sorted/Cymbals/Dark Crash\\\\Tip\\\\MN_Dark Crash_Tip_1114.4.wav',\n",
       " 'data/MDLib2.2/MDLib2.2/Sorted/Cymbals/Dark Crash\\\\Tip\\\\MN_Dark Crash_Tip_1121.1.wav',\n",
       " 'data/MDLib2.2/MDLib2.2/Sorted/Cymbals/Dark Crash\\\\Tip\\\\MN_Dark Crash_Tip_1121.2.wav',\n",
       " 'data/MDLib2.2/MDLib2.2/Sorted/Cymbals/Dark Crash\\\\Tip\\\\MN_Dark Crash_Tip_1121.3.wav',\n",
       " 'data/MDLib2.2/MDLib2.2/Sorted/Cymbals/Dark Crash\\\\Tip\\\\MN_Dark Crash_Tip_1121.4.wav',\n",
       " 'data/MDLib2.2/MDLib2.2/Sorted/Cymbals/Dark Crash\\\\Tip\\\\MN_Dark Crash_Tip_1122.1.wav',\n",
       " 'data/MDLib2.2/MDLib2.2/Sorted/Cymbals/Dark Crash\\\\Tip\\\\MN_Dark Crash_Tip_1122.2.wav',\n",
       " 'data/MDLib2.2/MDLib2.2/Sorted/Cymbals/Dark Crash\\\\Tip\\\\MN_Dark Crash_Tip_1122.3.wav',\n",
       " 'data/MDLib2.2/MDLib2.2/Sorted/Cymbals/Dark Crash\\\\Tip\\\\MN_Dark Crash_Tip_1122.4.wav',\n",
       " 'data/MDLib2.2/MDLib2.2/Sorted/Cymbals/Dark Crash\\\\Tip\\\\MN_Dark Crash_Tip_1123.1.wav',\n",
       " 'data/MDLib2.2/MDLib2.2/Sorted/Cymbals/Dark Crash\\\\Tip\\\\MN_Dark Crash_Tip_1123.2.wav',\n",
       " 'data/MDLib2.2/MDLib2.2/Sorted/Cymbals/Dark Crash\\\\Tip\\\\MN_Dark Crash_Tip_1123.3.wav',\n",
       " 'data/MDLib2.2/MDLib2.2/Sorted/Cymbals/Dark Crash\\\\Tip\\\\MN_Dark Crash_Tip_1123.4.wav',\n",
       " 'data/MDLib2.2/MDLib2.2/Sorted/Cymbals/Dark Crash\\\\Tip\\\\MN_Dark Crash_Tip_1124.1.wav',\n",
       " 'data/MDLib2.2/MDLib2.2/Sorted/Cymbals/Dark Crash\\\\Tip\\\\MN_Dark Crash_Tip_1124.2.wav',\n",
       " 'data/MDLib2.2/MDLib2.2/Sorted/Cymbals/Dark Crash\\\\Tip\\\\MN_Dark Crash_Tip_1124.3.wav',\n",
       " 'data/MDLib2.2/MDLib2.2/Sorted/Cymbals/Dark Crash\\\\Tip\\\\MN_Dark Crash_Tip_1124.4.wav',\n",
       " 'data/MDLib2.2/MDLib2.2/Sorted/Cymbals/Dark Crash\\\\Tip\\\\MN_Dark Crash_Tip_1131.1.wav',\n",
       " 'data/MDLib2.2/MDLib2.2/Sorted/Cymbals/Dark Crash\\\\Tip\\\\MN_Dark Crash_Tip_1131.2.wav',\n",
       " 'data/MDLib2.2/MDLib2.2/Sorted/Cymbals/Dark Crash\\\\Tip\\\\MN_Dark Crash_Tip_1131.3.wav',\n",
       " 'data/MDLib2.2/MDLib2.2/Sorted/Cymbals/Dark Crash\\\\Tip\\\\MN_Dark Crash_Tip_1131.4.wav',\n",
       " 'data/MDLib2.2/MDLib2.2/Sorted/Cymbals/Dark Crash\\\\Tip\\\\MN_Dark Crash_Tip_1132.1.wav',\n",
       " 'data/MDLib2.2/MDLib2.2/Sorted/Cymbals/Dark Crash\\\\Tip\\\\MN_Dark Crash_Tip_1132.2.wav',\n",
       " 'data/MDLib2.2/MDLib2.2/Sorted/Cymbals/Dark Crash\\\\Tip\\\\MN_Dark Crash_Tip_1132.3.wav',\n",
       " 'data/MDLib2.2/MDLib2.2/Sorted/Cymbals/Dark Crash\\\\Tip\\\\MN_Dark Crash_Tip_1132.4.wav',\n",
       " 'data/MDLib2.2/MDLib2.2/Sorted/Cymbals/Dark Crash\\\\Tip\\\\MN_Dark Crash_Tip_1133.1.wav',\n",
       " 'data/MDLib2.2/MDLib2.2/Sorted/Cymbals/Dark Crash\\\\Tip\\\\MN_Dark Crash_Tip_1133.2.wav',\n",
       " 'data/MDLib2.2/MDLib2.2/Sorted/Cymbals/Dark Crash\\\\Tip\\\\MN_Dark Crash_Tip_1133.3.wav',\n",
       " 'data/MDLib2.2/MDLib2.2/Sorted/Cymbals/Dark Crash\\\\Tip\\\\MN_Dark Crash_Tip_1133.4.wav',\n",
       " 'data/MDLib2.2/MDLib2.2/Sorted/Cymbals/Dark Crash\\\\Tip\\\\MN_Dark Crash_Tip_1134.1.wav',\n",
       " 'data/MDLib2.2/MDLib2.2/Sorted/Cymbals/Dark Crash\\\\Tip\\\\MN_Dark Crash_Tip_1134.2.wav',\n",
       " 'data/MDLib2.2/MDLib2.2/Sorted/Cymbals/Dark Crash\\\\Tip\\\\MN_Dark Crash_Tip_1134.3.wav',\n",
       " 'data/MDLib2.2/MDLib2.2/Sorted/Cymbals/Dark Crash\\\\Tip\\\\MN_Dark Crash_Tip_1134.4.wav',\n",
       " 'data/MDLib2.2/MDLib2.2/Sorted/Cymbals/Dark Crash\\\\Tip\\\\ST_Dark Crash_Tip_1111.1.wav',\n",
       " 'data/MDLib2.2/MDLib2.2/Sorted/Cymbals/Dark Crash\\\\Tip\\\\ST_Dark Crash_Tip_1111.2.wav',\n",
       " 'data/MDLib2.2/MDLib2.2/Sorted/Cymbals/Dark Crash\\\\Tip\\\\ST_Dark Crash_Tip_1111.3.wav',\n",
       " 'data/MDLib2.2/MDLib2.2/Sorted/Cymbals/Dark Crash\\\\Tip\\\\ST_Dark Crash_Tip_1111.4.wav',\n",
       " 'data/MDLib2.2/MDLib2.2/Sorted/Cymbals/Dark Crash\\\\Tip\\\\ST_Dark Crash_Tip_1112.1.wav',\n",
       " 'data/MDLib2.2/MDLib2.2/Sorted/Cymbals/Dark Crash\\\\Tip\\\\ST_Dark Crash_Tip_1112.2.wav',\n",
       " 'data/MDLib2.2/MDLib2.2/Sorted/Cymbals/Dark Crash\\\\Tip\\\\ST_Dark Crash_Tip_1112.3.wav',\n",
       " 'data/MDLib2.2/MDLib2.2/Sorted/Cymbals/Dark Crash\\\\Tip\\\\ST_Dark Crash_Tip_1112.4.wav',\n",
       " 'data/MDLib2.2/MDLib2.2/Sorted/Cymbals/Dark Crash\\\\Tip\\\\ST_Dark Crash_Tip_1113.1.wav',\n",
       " 'data/MDLib2.2/MDLib2.2/Sorted/Cymbals/Dark Crash\\\\Tip\\\\ST_Dark Crash_Tip_1113.2.wav',\n",
       " 'data/MDLib2.2/MDLib2.2/Sorted/Cymbals/Dark Crash\\\\Tip\\\\ST_Dark Crash_Tip_1113.3.wav',\n",
       " 'data/MDLib2.2/MDLib2.2/Sorted/Cymbals/Dark Crash\\\\Tip\\\\ST_Dark Crash_Tip_1113.4.wav',\n",
       " 'data/MDLib2.2/MDLib2.2/Sorted/Cymbals/Dark Crash\\\\Tip\\\\ST_Dark Crash_Tip_1114.1.wav',\n",
       " 'data/MDLib2.2/MDLib2.2/Sorted/Cymbals/Dark Crash\\\\Tip\\\\ST_Dark Crash_Tip_1114.2.wav',\n",
       " 'data/MDLib2.2/MDLib2.2/Sorted/Cymbals/Dark Crash\\\\Tip\\\\ST_Dark Crash_Tip_1114.3.wav',\n",
       " 'data/MDLib2.2/MDLib2.2/Sorted/Cymbals/Dark Crash\\\\Tip\\\\ST_Dark Crash_Tip_1114.4.wav',\n",
       " 'data/MDLib2.2/MDLib2.2/Sorted/Cymbals/Dark Crash\\\\Tip\\\\ST_Dark Crash_Tip_1121.1.wav',\n",
       " 'data/MDLib2.2/MDLib2.2/Sorted/Cymbals/Dark Crash\\\\Tip\\\\ST_Dark Crash_Tip_1121.2.wav',\n",
       " 'data/MDLib2.2/MDLib2.2/Sorted/Cymbals/Dark Crash\\\\Tip\\\\ST_Dark Crash_Tip_1121.3.wav',\n",
       " 'data/MDLib2.2/MDLib2.2/Sorted/Cymbals/Dark Crash\\\\Tip\\\\ST_Dark Crash_Tip_1121.4.wav',\n",
       " 'data/MDLib2.2/MDLib2.2/Sorted/Cymbals/Dark Crash\\\\Tip\\\\ST_Dark Crash_Tip_1122.1.wav',\n",
       " 'data/MDLib2.2/MDLib2.2/Sorted/Cymbals/Dark Crash\\\\Tip\\\\ST_Dark Crash_Tip_1122.2.wav',\n",
       " 'data/MDLib2.2/MDLib2.2/Sorted/Cymbals/Dark Crash\\\\Tip\\\\ST_Dark Crash_Tip_1122.3.wav',\n",
       " 'data/MDLib2.2/MDLib2.2/Sorted/Cymbals/Dark Crash\\\\Tip\\\\ST_Dark Crash_Tip_1122.4.wav',\n",
       " 'data/MDLib2.2/MDLib2.2/Sorted/Cymbals/Dark Crash\\\\Tip\\\\ST_Dark Crash_Tip_1123.1.wav',\n",
       " 'data/MDLib2.2/MDLib2.2/Sorted/Cymbals/Dark Crash\\\\Tip\\\\ST_Dark Crash_Tip_1123.2.wav',\n",
       " 'data/MDLib2.2/MDLib2.2/Sorted/Cymbals/Dark Crash\\\\Tip\\\\ST_Dark Crash_Tip_1123.3.wav',\n",
       " 'data/MDLib2.2/MDLib2.2/Sorted/Cymbals/Dark Crash\\\\Tip\\\\ST_Dark Crash_Tip_1123.4.wav',\n",
       " 'data/MDLib2.2/MDLib2.2/Sorted/Cymbals/Dark Crash\\\\Tip\\\\ST_Dark Crash_Tip_1124.1.wav',\n",
       " 'data/MDLib2.2/MDLib2.2/Sorted/Cymbals/Dark Crash\\\\Tip\\\\ST_Dark Crash_Tip_1124.2.wav',\n",
       " 'data/MDLib2.2/MDLib2.2/Sorted/Cymbals/Dark Crash\\\\Tip\\\\ST_Dark Crash_Tip_1124.3.wav',\n",
       " 'data/MDLib2.2/MDLib2.2/Sorted/Cymbals/Dark Crash\\\\Tip\\\\ST_Dark Crash_Tip_1124.4.wav',\n",
       " 'data/MDLib2.2/MDLib2.2/Sorted/Cymbals/Dark Crash\\\\Tip\\\\ST_Dark Crash_Tip_1131.1.wav',\n",
       " 'data/MDLib2.2/MDLib2.2/Sorted/Cymbals/Dark Crash\\\\Tip\\\\ST_Dark Crash_Tip_1131.2.wav',\n",
       " 'data/MDLib2.2/MDLib2.2/Sorted/Cymbals/Dark Crash\\\\Tip\\\\ST_Dark Crash_Tip_1131.3.wav',\n",
       " 'data/MDLib2.2/MDLib2.2/Sorted/Cymbals/Dark Crash\\\\Tip\\\\ST_Dark Crash_Tip_1131.4.wav',\n",
       " 'data/MDLib2.2/MDLib2.2/Sorted/Cymbals/Dark Crash\\\\Tip\\\\ST_Dark Crash_Tip_1132.1.wav',\n",
       " 'data/MDLib2.2/MDLib2.2/Sorted/Cymbals/Dark Crash\\\\Tip\\\\ST_Dark Crash_Tip_1132.2.wav',\n",
       " 'data/MDLib2.2/MDLib2.2/Sorted/Cymbals/Dark Crash\\\\Tip\\\\ST_Dark Crash_Tip_1132.3.wav',\n",
       " 'data/MDLib2.2/MDLib2.2/Sorted/Cymbals/Dark Crash\\\\Tip\\\\ST_Dark Crash_Tip_1132.4.wav',\n",
       " 'data/MDLib2.2/MDLib2.2/Sorted/Cymbals/Dark Crash\\\\Tip\\\\ST_Dark Crash_Tip_1133.1.wav',\n",
       " 'data/MDLib2.2/MDLib2.2/Sorted/Cymbals/Dark Crash\\\\Tip\\\\ST_Dark Crash_Tip_1133.2.wav',\n",
       " 'data/MDLib2.2/MDLib2.2/Sorted/Cymbals/Dark Crash\\\\Tip\\\\ST_Dark Crash_Tip_1133.3.wav',\n",
       " 'data/MDLib2.2/MDLib2.2/Sorted/Cymbals/Dark Crash\\\\Tip\\\\ST_Dark Crash_Tip_1133.4.wav',\n",
       " 'data/MDLib2.2/MDLib2.2/Sorted/Cymbals/Dark Crash\\\\Tip\\\\ST_Dark Crash_Tip_1134.1.wav',\n",
       " 'data/MDLib2.2/MDLib2.2/Sorted/Cymbals/Dark Crash\\\\Tip\\\\ST_Dark Crash_Tip_1134.2.wav',\n",
       " 'data/MDLib2.2/MDLib2.2/Sorted/Cymbals/Dark Crash\\\\Tip\\\\ST_Dark Crash_Tip_1134.3.wav',\n",
       " 'data/MDLib2.2/MDLib2.2/Sorted/Cymbals/Dark Crash\\\\Tip\\\\ST_Dark Crash_Tip_1134.4.wav']"
      ]
     },
     "execution_count": 3,
     "metadata": {},
     "output_type": "execute_result"
    }
   ],
   "source": [
    "glob('data/MDLib2.2/MDLib2.2/Sorted/Cymbals/Dark Crash/*/*.wav')"
   ]
  },
  {
   "cell_type": "code",
   "execution_count": 4,
   "metadata": {},
   "outputs": [],
   "source": [
    "# def load_file_list(file_list):\n",
    "#     for file in file_list:\n",
    "#         y, sr = librosa.load(file)\n",
    "        \n",
    "#     return y, sr"
   ]
  },
  {
   "cell_type": "code",
   "execution_count": 5,
   "metadata": {},
   "outputs": [],
   "source": [
    "#load_file_list(files_snare)"
   ]
  },
  {
   "cell_type": "code",
   "execution_count": 6,
   "metadata": {},
   "outputs": [],
   "source": [
    "def load_file(file):\n",
    "    \n",
    "    y_values = []\n",
    "    sample_rates = []\n",
    "    \n",
    "    for i in file:\n",
    "        \n",
    "        y, sr = librosa.load(i)\n",
    "        \n",
    "        y_values.append(y)\n",
    "        sample_rates.append(sr)\n",
    "        \n",
    "        \n",
    "        \n",
    "    return y_values, sample_rates"
   ]
  },
  {
   "cell_type": "code",
   "execution_count": 7,
   "metadata": {},
   "outputs": [],
   "source": [
    "#load_file(files_snare)"
   ]
  },
  {
   "cell_type": "code",
   "execution_count": 8,
   "metadata": {},
   "outputs": [],
   "source": [
    "# duration of file\n",
    "def get_duration(file):\n",
    "    dur = librosa.get_duration(filename=file)\n",
    "    return dur"
   ]
  },
  {
   "cell_type": "code",
   "execution_count": 9,
   "metadata": {},
   "outputs": [],
   "source": [
    "def trim_audio(y, db=25):\n",
    "    y_trimmed, ind = librosa.effects.trim(y, top_db=db)\n",
    "    dur_trimmed = librosa.get_duration(y=y_trimmed)\n",
    "    return(dur_trimmed)"
   ]
  },
  {
   "cell_type": "code",
   "execution_count": 10,
   "metadata": {},
   "outputs": [],
   "source": [
    "def trim_y(y, db=25):\n",
    "    y_trimmed, ind = librosa.effects.trim(y, top_db=db)\n",
    "    return(y_trimmed)"
   ]
  },
  {
   "cell_type": "markdown",
   "metadata": {},
   "source": [
    "### Dataframe Assembly"
   ]
  },
  {
   "cell_type": "markdown",
   "metadata": {},
   "source": [
    "#### Assembly Cont.\n",
    "    Snare Dataframe Assembly"
   ]
  },
  {
   "cell_type": "code",
   "execution_count": 11,
   "metadata": {},
   "outputs": [
    {
     "data": {
      "text/plain": [
       "['data/MDLib2.2/MDLib2.2/Sorted/Snare/Strike\\\\DI_Snare_Strike_1111.1.wav',\n",
       " 'data/MDLib2.2/MDLib2.2/Sorted/Snare/Strike\\\\DI_Snare_Strike_1111.2.wav',\n",
       " 'data/MDLib2.2/MDLib2.2/Sorted/Snare/Strike\\\\DI_Snare_Strike_1111.3.wav',\n",
       " 'data/MDLib2.2/MDLib2.2/Sorted/Snare/Strike\\\\DI_Snare_Strike_1111.4.wav',\n",
       " 'data/MDLib2.2/MDLib2.2/Sorted/Snare/Strike\\\\DI_Snare_Strike_1112.1.wav']"
      ]
     },
     "execution_count": 11,
     "metadata": {},
     "output_type": "execute_result"
    }
   ],
   "source": [
    "files_snare[:5]"
   ]
  },
  {
   "cell_type": "code",
   "execution_count": 12,
   "metadata": {},
   "outputs": [],
   "source": [
    "y, sr = load_file(files_snare)\n",
    "\n",
    "snare = pd.DataFrame({\n",
    "    \"file_name\": files_snare,\n",
    "    \"ins\": 'snare',\n",
    "    \"sr\": sr,\n",
    "    \"y\": y\n",
    "})\n",
    "snare['y_trimmed'] = snare['y'].map(trim_y)\n",
    "snare['length'] = snare['file_name'].map(get_duration)\n",
    "snare['length_trimmed'] = snare['y'].map(trim_audio)"
   ]
  },
  {
   "cell_type": "code",
   "execution_count": 13,
   "metadata": {},
   "outputs": [
    {
     "data": {
      "text/html": [
       "<div>\n",
       "<style scoped>\n",
       "    .dataframe tbody tr th:only-of-type {\n",
       "        vertical-align: middle;\n",
       "    }\n",
       "\n",
       "    .dataframe tbody tr th {\n",
       "        vertical-align: top;\n",
       "    }\n",
       "\n",
       "    .dataframe thead th {\n",
       "        text-align: right;\n",
       "    }\n",
       "</style>\n",
       "<table border=\"1\" class=\"dataframe\">\n",
       "  <thead>\n",
       "    <tr style=\"text-align: right;\">\n",
       "      <th></th>\n",
       "      <th>file_name</th>\n",
       "      <th>ins</th>\n",
       "      <th>sr</th>\n",
       "      <th>y</th>\n",
       "      <th>y_trimmed</th>\n",
       "      <th>length</th>\n",
       "      <th>length_trimmed</th>\n",
       "    </tr>\n",
       "  </thead>\n",
       "  <tbody>\n",
       "    <tr>\n",
       "      <th>0</th>\n",
       "      <td>data/MDLib2.2/MDLib2.2/Sorted/Snare/Strike\\DI_...</td>\n",
       "      <td>snare</td>\n",
       "      <td>22050</td>\n",
       "      <td>[-1.5206266e-05, -1.3785218e-05, -8.188464e-06...</td>\n",
       "      <td>[-1.5206266e-05, -1.3785218e-05, -8.188464e-06...</td>\n",
       "      <td>0.932336</td>\n",
       "      <td>0.255420</td>\n",
       "    </tr>\n",
       "    <tr>\n",
       "      <th>1</th>\n",
       "      <td>data/MDLib2.2/MDLib2.2/Sorted/Snare/Strike\\DI_...</td>\n",
       "      <td>snare</td>\n",
       "      <td>22050</td>\n",
       "      <td>[-2.0711204e-05, -1.7712298e-05, -9.776115e-06...</td>\n",
       "      <td>[-2.0711204e-05, -1.7712298e-05, -9.776115e-06...</td>\n",
       "      <td>0.640068</td>\n",
       "      <td>0.278639</td>\n",
       "    </tr>\n",
       "    <tr>\n",
       "      <th>2</th>\n",
       "      <td>data/MDLib2.2/MDLib2.2/Sorted/Snare/Strike\\DI_...</td>\n",
       "      <td>snare</td>\n",
       "      <td>22050</td>\n",
       "      <td>[-7.5879116e-06, 2.1694016e-06, 1.2658389e-05,...</td>\n",
       "      <td>[-7.5879116e-06, 2.1694016e-06, 1.2658389e-05,...</td>\n",
       "      <td>0.792449</td>\n",
       "      <td>0.255420</td>\n",
       "    </tr>\n",
       "    <tr>\n",
       "      <th>3</th>\n",
       "      <td>data/MDLib2.2/MDLib2.2/Sorted/Snare/Strike\\DI_...</td>\n",
       "      <td>snare</td>\n",
       "      <td>22050</td>\n",
       "      <td>[1.1276075e-05, 7.2365297e-06, 2.8594923e-06, ...</td>\n",
       "      <td>[1.1276075e-05, 7.2365297e-06, 2.8594923e-06, ...</td>\n",
       "      <td>0.705147</td>\n",
       "      <td>0.255420</td>\n",
       "    </tr>\n",
       "    <tr>\n",
       "      <th>4</th>\n",
       "      <td>data/MDLib2.2/MDLib2.2/Sorted/Snare/Strike\\DI_...</td>\n",
       "      <td>snare</td>\n",
       "      <td>22050</td>\n",
       "      <td>[3.2032644e-05, 3.0818876e-05, -5.6142153e-06,...</td>\n",
       "      <td>[3.2032644e-05, 3.0818876e-05, -5.6142153e-06,...</td>\n",
       "      <td>0.887007</td>\n",
       "      <td>0.208980</td>\n",
       "    </tr>\n",
       "  </tbody>\n",
       "</table>\n",
       "</div>"
      ],
      "text/plain": [
       "                                           file_name    ins     sr  \\\n",
       "0  data/MDLib2.2/MDLib2.2/Sorted/Snare/Strike\\DI_...  snare  22050   \n",
       "1  data/MDLib2.2/MDLib2.2/Sorted/Snare/Strike\\DI_...  snare  22050   \n",
       "2  data/MDLib2.2/MDLib2.2/Sorted/Snare/Strike\\DI_...  snare  22050   \n",
       "3  data/MDLib2.2/MDLib2.2/Sorted/Snare/Strike\\DI_...  snare  22050   \n",
       "4  data/MDLib2.2/MDLib2.2/Sorted/Snare/Strike\\DI_...  snare  22050   \n",
       "\n",
       "                                                   y  \\\n",
       "0  [-1.5206266e-05, -1.3785218e-05, -8.188464e-06...   \n",
       "1  [-2.0711204e-05, -1.7712298e-05, -9.776115e-06...   \n",
       "2  [-7.5879116e-06, 2.1694016e-06, 1.2658389e-05,...   \n",
       "3  [1.1276075e-05, 7.2365297e-06, 2.8594923e-06, ...   \n",
       "4  [3.2032644e-05, 3.0818876e-05, -5.6142153e-06,...   \n",
       "\n",
       "                                           y_trimmed    length  length_trimmed  \n",
       "0  [-1.5206266e-05, -1.3785218e-05, -8.188464e-06...  0.932336        0.255420  \n",
       "1  [-2.0711204e-05, -1.7712298e-05, -9.776115e-06...  0.640068        0.278639  \n",
       "2  [-7.5879116e-06, 2.1694016e-06, 1.2658389e-05,...  0.792449        0.255420  \n",
       "3  [1.1276075e-05, 7.2365297e-06, 2.8594923e-06, ...  0.705147        0.255420  \n",
       "4  [3.2032644e-05, 3.0818876e-05, -5.6142153e-06,...  0.887007        0.208980  "
      ]
     },
     "execution_count": 13,
     "metadata": {},
     "output_type": "execute_result"
    }
   ],
   "source": [
    "snare.head()"
   ]
  },
  {
   "cell_type": "markdown",
   "metadata": {},
   "source": [
    "#### Preview First Snare Sound With iPython"
   ]
  },
  {
   "cell_type": "code",
   "execution_count": 14,
   "metadata": {},
   "outputs": [
    {
     "data": {
      "text/html": [
       "\n",
       "                <audio  controls=\"controls\" >\n",
       "                    <source src=\"data:audio/wav;base64,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\" type=\"audio/wav\" />\n",
       "                    Your browser does not support the audio element.\n",
       "                </audio>\n",
       "              "
      ],
      "text/plain": [
       "<IPython.lib.display.Audio object>"
      ]
     },
     "execution_count": 14,
     "metadata": {},
     "output_type": "execute_result"
    }
   ],
   "source": [
    "ipd.Audio(snare['file_name'].iloc[0])"
   ]
  },
  {
   "cell_type": "markdown",
   "metadata": {},
   "source": [
    "#### Checking Difference in Length After Trimming"
   ]
  },
  {
   "cell_type": "code",
   "execution_count": 15,
   "metadata": {},
   "outputs": [
    {
     "data": {
      "text/plain": [
       "0.9323356009070295"
      ]
     },
     "execution_count": 15,
     "metadata": {},
     "output_type": "execute_result"
    }
   ],
   "source": [
    "librosa.get_duration(y=snare['y'].iloc[0], sr=22050)\n",
    "#0.9323356009070295"
   ]
  },
  {
   "cell_type": "code",
   "execution_count": 16,
   "metadata": {},
   "outputs": [
    {
     "data": {
      "text/plain": [
       "0.25541950113378686"
      ]
     },
     "execution_count": 16,
     "metadata": {},
     "output_type": "execute_result"
    }
   ],
   "source": [
    "x, ind = librosa.effects.trim(y=snare['y'].iloc[0], top_db=25)\n",
    "librosa.get_duration(y=x)\n",
    "#0.25541950113378686"
   ]
  },
  {
   "cell_type": "markdown",
   "metadata": {},
   "source": [
    "#### Assembly Cont.\n",
    "    Remaining Dataframe Assembly"
   ]
  },
  {
   "cell_type": "code",
   "execution_count": 22,
   "metadata": {},
   "outputs": [],
   "source": [
    "# Create RACK TOMS dataframe\n",
    "y, sr = load_file(files_toms_rack)\n",
    "\n",
    "toms_rack = pd.DataFrame({\n",
    "    \"file_name\": files_toms_rack,\n",
    "    \"ins\": 'rack_tom',\n",
    "    \"sr\": sr,\n",
    "    \"y\": y\n",
    "})\n",
    "# Add trimmed columns\n",
    "toms_rack['y_trimmed'] = toms_rack['y'].map(trim_y)\n",
    "toms_rack['length'] = toms_rack['file_name'].map(get_duration)\n",
    "toms_rack['length_trimmed'] = toms_rack['y'].map(trim_audio)\n",
    "\n",
    "\n",
    "\n",
    "# Create FLOOR TOMS dataframe\n",
    "y, sr = load_file(files_toms_floor)\n",
    "\n",
    "toms_floor = pd.DataFrame({\n",
    "    \"file_name\": files_toms_floor,\n",
    "    \"ins\": 'floor_tom',\n",
    "    \"sr\": sr,\n",
    "    \"y\": y\n",
    "})\n",
    "# Add trimmed columns\n",
    "toms_floor['y_trimmed'] = toms_floor['y'].map(trim_y)\n",
    "toms_floor['length'] = toms_floor['file_name'].map(get_duration)\n",
    "toms_floor['length_trimmed'] = toms_floor['y'].map(trim_audio)\n",
    "\n",
    "\n",
    "\n",
    "# Create KICK dataframe\n",
    "y, sr = load_file(files_kick)\n",
    "\n",
    "kick = pd.DataFrame({\n",
    "    \"file_name\": files_kick,\n",
    "    \"ins\": 'kick',\n",
    "    \"sr\": sr,\n",
    "    \"y\": y\n",
    "})\n",
    "# Add trimmed columns\n",
    "kick['y_trimmed'] = kick['y'].map(trim_y)\n",
    "kick['length'] = kick['file_name'].map(get_duration)\n",
    "kick['length_trimmed'] = kick['y'].map(trim_audio)\n",
    "\n",
    "\n",
    "\n",
    "# Create HIHAT dataframe\n",
    "y, sr = load_file(files_hihat)\n",
    "\n",
    "hihat = pd.DataFrame({\n",
    "    \"file_name\": files_hihat,\n",
    "    \"ins\": 'hihat',\n",
    "    \"sr\": sr,\n",
    "    \"y\": y\n",
    "})\n",
    "# Add trimmed columns\n",
    "hihat['y_trimmed'] = hihat['y'].map(trim_y)\n",
    "hihat['length'] = hihat['file_name'].map(get_duration)\n",
    "hihat['length_trimmed'] = hihat['y'].map(trim_audio)\n",
    "\n",
    "\n",
    "\n",
    "# Create RIDE CYMBAL dataframe\n",
    "y, sr = load_file(files_ride)\n",
    "\n",
    "ride = pd.DataFrame({\n",
    "    \"file_name\": files_ride,\n",
    "    \"ins\": 'ride',\n",
    "    \"sr\": sr,\n",
    "    \"y\": y\n",
    "})\n",
    "# Add trimmed columns\n",
    "ride['y_trimmed'] = ride['y'].map(trim_y)\n",
    "ride['length'] = ride['file_name'].map(get_duration)\n",
    "ride['length_trimmed'] = ride['y'].map(trim_audio)\n",
    "\n",
    "\n",
    "\n",
    "# Create CRASH CYMBAL dataframe\n",
    "y, sr = load_file(files_crash)\n",
    "\n",
    "crash = pd.DataFrame({\n",
    "    \"file_name\": files_crash,\n",
    "    \"ins\": 'crash',\n",
    "    \"sr\": sr,\n",
    "    \"y\": y\n",
    "})\n",
    "# Add trimmed columns\n",
    "crash['y_trimmed'] = crash['y'].map(trim_y)\n",
    "crash['length'] = crash['file_name'].map(get_duration)\n",
    "crash['length_trimmed'] = crash['y'].map(trim_audio)\n",
    "\n",
    "\n",
    "\n",
    "# COMBINE dataframes\n",
    "df_list = [snare, toms_rack, toms_floor, kick, hihat, ride, crash]\n",
    "\n",
    "df = pd.concat(df_list)"
   ]
  },
  {
   "cell_type": "code",
   "execution_count": 23,
   "metadata": {},
   "outputs": [
    {
     "data": {
      "text/plain": [
       "hihat        1280\n",
       "crash         640\n",
       "snare         576\n",
       "kick          480\n",
       "floor_tom     384\n",
       "rack_tom      384\n",
       "ride          256\n",
       "Name: ins, dtype: int64"
      ]
     },
     "execution_count": 23,
     "metadata": {},
     "output_type": "execute_result"
    }
   ],
   "source": [
    "df['ins'].value_counts()"
   ]
  },
  {
   "cell_type": "markdown",
   "metadata": {},
   "source": [
    "## Feature Engineering"
   ]
  },
  {
   "cell_type": "code",
   "execution_count": 24,
   "metadata": {},
   "outputs": [],
   "source": [
    "def get_summary_stats(y):\n",
    "    \n",
    "    # creates one column df to perform descriptive stats on\n",
    "    col = pd.DataFrame(y).T\n",
    "    \n",
    "    # get descriptive stats\n",
    "    ds = col.describe(include='all')\n",
    "    \n",
    "    # assign variables for each stat\n",
    "    mean = ds.loc['mean']\n",
    "    std = ds.loc['std']\n",
    "    mini = ds.loc['min']\n",
    "    q1 = ds.loc['25%']\n",
    "    medi = ds.loc['50%']\n",
    "    q3 = ds.loc['75%']\n",
    "    maxi = ds.loc['max']\n",
    "    \n",
    "    return(mean, std, mini, q1, medi, q3, maxi)"
   ]
  },
  {
   "cell_type": "code",
   "execution_count": 25,
   "metadata": {},
   "outputs": [],
   "source": [
    "def calc_rms(y):\n",
    "    rms = librosa.feature.rms(y=y, frame_length=2048)\n",
    "    return(rms)"
   ]
  },
  {
   "cell_type": "code",
   "execution_count": 26,
   "metadata": {},
   "outputs": [],
   "source": [
    "# def calc_rms_summary(y):\n",
    "#     rms = librosa.feature.rms(y=y, frame_length=2048)\n",
    "    \n",
    "#     results = get_summary_stats(rms)\n",
    "#     return(rms, results)"
   ]
  },
  {
   "cell_type": "code",
   "execution_count": 27,
   "metadata": {},
   "outputs": [],
   "source": [
    "def calc_spec_centroid(y):\n",
    "    spec_cent = librosa.feature.spectral_centroid(y=y, sr=22050)\n",
    "    return(spec_cent)"
   ]
  },
  {
   "cell_type": "code",
   "execution_count": 28,
   "metadata": {},
   "outputs": [],
   "source": [
    "def calc_spec_bandwidth(y):\n",
    "    spec_bandwidth = librosa.feature.spectral_bandwidth(y=y, sr=22050)\n",
    "    return(spec_bandwidth)"
   ]
  },
  {
   "cell_type": "code",
   "execution_count": 29,
   "metadata": {},
   "outputs": [],
   "source": [
    "def calc_spec_rolloff(y):\n",
    "    spec_rolloff = librosa.feature.spectral_rolloff(y=y, sr=22050)\n",
    "    return(spec_rolloff)"
   ]
  },
  {
   "cell_type": "code",
   "execution_count": 30,
   "metadata": {},
   "outputs": [],
   "source": [
    "def calc_zero_cross(y):\n",
    "    zero_cross_rate = librosa.feature.zero_crossing_rate(y=y, frame_length=2048)\n",
    "    return(zero_cross_rate)"
   ]
  },
  {
   "cell_type": "markdown",
   "metadata": {},
   "source": [
    "#### Calculating New Features"
   ]
  },
  {
   "cell_type": "code",
   "execution_count": 31,
   "metadata": {},
   "outputs": [
    {
     "data": {
      "text/html": [
       "<div>\n",
       "<style scoped>\n",
       "    .dataframe tbody tr th:only-of-type {\n",
       "        vertical-align: middle;\n",
       "    }\n",
       "\n",
       "    .dataframe tbody tr th {\n",
       "        vertical-align: top;\n",
       "    }\n",
       "\n",
       "    .dataframe thead th {\n",
       "        text-align: right;\n",
       "    }\n",
       "</style>\n",
       "<table border=\"1\" class=\"dataframe\">\n",
       "  <thead>\n",
       "    <tr style=\"text-align: right;\">\n",
       "      <th></th>\n",
       "      <th>rms</th>\n",
       "      <th>rms_mean</th>\n",
       "      <th>rms_std</th>\n",
       "      <th>rms_min</th>\n",
       "      <th>rms_25%</th>\n",
       "      <th>rms_median</th>\n",
       "      <th>rms_75%</th>\n",
       "      <th>rms_max</th>\n",
       "      <th>rms_IQR</th>\n",
       "    </tr>\n",
       "  </thead>\n",
       "  <tbody>\n",
       "    <tr>\n",
       "      <th>0</th>\n",
       "      <td>[[0.004205495, 0.004348958, 0.0044075986, 0.00...</td>\n",
       "      <td>0.001781</td>\n",
       "      <td>0.001661</td>\n",
       "      <td>0.000206</td>\n",
       "      <td>0.000606</td>\n",
       "      <td>0.000920</td>\n",
       "      <td>0.003062</td>\n",
       "      <td>0.004408</td>\n",
       "      <td>0.002456</td>\n",
       "    </tr>\n",
       "    <tr>\n",
       "      <th>1</th>\n",
       "      <td>[[0.0032281945, 0.0033489498, 0.003410472, 0.0...</td>\n",
       "      <td>0.001321</td>\n",
       "      <td>0.001256</td>\n",
       "      <td>0.000134</td>\n",
       "      <td>0.000447</td>\n",
       "      <td>0.000693</td>\n",
       "      <td>0.002137</td>\n",
       "      <td>0.003410</td>\n",
       "      <td>0.001690</td>\n",
       "    </tr>\n",
       "  </tbody>\n",
       "</table>\n",
       "</div>"
      ],
      "text/plain": [
       "                                                 rms  rms_mean   rms_std  \\\n",
       "0  [[0.004205495, 0.004348958, 0.0044075986, 0.00...  0.001781  0.001661   \n",
       "1  [[0.0032281945, 0.0033489498, 0.003410472, 0.0...  0.001321  0.001256   \n",
       "\n",
       "    rms_min   rms_25%  rms_median   rms_75%   rms_max   rms_IQR  \n",
       "0  0.000206  0.000606    0.000920  0.003062  0.004408  0.002456  \n",
       "1  0.000134  0.000447    0.000693  0.002137  0.003410  0.001690  "
      ]
     },
     "execution_count": 31,
     "metadata": {},
     "output_type": "execute_result"
    }
   ],
   "source": [
    "df['rms'] = df['y_trimmed'].map(calc_rms)\n",
    "\n",
    "x = [get_summary_stats(i) for i in df['rms']]\n",
    "\n",
    "df['rms_mean'] = [i[0][0] for i in x]\n",
    "df['rms_std'] = [i[1][0] for i in x]\n",
    "df['rms_min'] = [i[2][0] for i in x]\n",
    "df['rms_25%'] = [i[3][0] for i in x]\n",
    "df['rms_median'] = [i[4][0] for i in x]\n",
    "df['rms_75%'] = [i[5][0] for i in x]\n",
    "df['rms_max'] = [i[6][0] for i in x]\n",
    "df['rms_IQR'] = abs(df['rms_25%'] - df['rms_75%'])\n",
    "\n",
    "filter_col = [col for col in df if col.startswith('rms')]\n",
    "df[filter_col].head(2)"
   ]
  },
  {
   "cell_type": "code",
   "execution_count": 32,
   "metadata": {},
   "outputs": [
    {
     "data": {
      "text/html": [
       "<div>\n",
       "<style scoped>\n",
       "    .dataframe tbody tr th:only-of-type {\n",
       "        vertical-align: middle;\n",
       "    }\n",
       "\n",
       "    .dataframe tbody tr th {\n",
       "        vertical-align: top;\n",
       "    }\n",
       "\n",
       "    .dataframe thead th {\n",
       "        text-align: right;\n",
       "    }\n",
       "</style>\n",
       "<table border=\"1\" class=\"dataframe\">\n",
       "  <thead>\n",
       "    <tr style=\"text-align: right;\">\n",
       "      <th></th>\n",
       "      <th>spec_centroid</th>\n",
       "      <th>spec_centroid_mean</th>\n",
       "      <th>spec_centroid_std</th>\n",
       "      <th>spec_centroid_min</th>\n",
       "      <th>spec_centroid_25%</th>\n",
       "      <th>spec_centroid_median</th>\n",
       "      <th>spec_centroid_75%</th>\n",
       "      <th>spec_centroid_max</th>\n",
       "      <th>spec_centroid_IQR</th>\n",
       "    </tr>\n",
       "  </thead>\n",
       "  <tbody>\n",
       "    <tr>\n",
       "      <th>0</th>\n",
       "      <td>[[2200.5189792513956, 3002.457212659452, 3718....</td>\n",
       "      <td>2498.367607</td>\n",
       "      <td>763.918829</td>\n",
       "      <td>1726.453488</td>\n",
       "      <td>1810.371199</td>\n",
       "      <td>2265.433842</td>\n",
       "      <td>3063.787697</td>\n",
       "      <td>3718.931386</td>\n",
       "      <td>1253.416498</td>\n",
       "    </tr>\n",
       "    <tr>\n",
       "      <th>1</th>\n",
       "      <td>[[1803.2787502736414, 2625.3336033881524, 3486...</td>\n",
       "      <td>2305.111611</td>\n",
       "      <td>700.064448</td>\n",
       "      <td>1614.252395</td>\n",
       "      <td>1681.912915</td>\n",
       "      <td>2046.480739</td>\n",
       "      <td>2625.333603</td>\n",
       "      <td>3571.054016</td>\n",
       "      <td>943.420688</td>\n",
       "    </tr>\n",
       "  </tbody>\n",
       "</table>\n",
       "</div>"
      ],
      "text/plain": [
       "                                       spec_centroid  spec_centroid_mean  \\\n",
       "0  [[2200.5189792513956, 3002.457212659452, 3718....         2498.367607   \n",
       "1  [[1803.2787502736414, 2625.3336033881524, 3486...         2305.111611   \n",
       "\n",
       "   spec_centroid_std  spec_centroid_min  spec_centroid_25%  \\\n",
       "0         763.918829        1726.453488        1810.371199   \n",
       "1         700.064448        1614.252395        1681.912915   \n",
       "\n",
       "   spec_centroid_median  spec_centroid_75%  spec_centroid_max  \\\n",
       "0           2265.433842        3063.787697        3718.931386   \n",
       "1           2046.480739        2625.333603        3571.054016   \n",
       "\n",
       "   spec_centroid_IQR  \n",
       "0        1253.416498  \n",
       "1         943.420688  "
      ]
     },
     "execution_count": 32,
     "metadata": {},
     "output_type": "execute_result"
    }
   ],
   "source": [
    "df['spec_centroid'] = df['y_trimmed'].map(calc_spec_centroid)\n",
    "\n",
    "x = [get_summary_stats(i) for i in df['spec_centroid']]\n",
    "\n",
    "df['spec_centroid_mean'] = [i[0][0] for i in x]\n",
    "df['spec_centroid_std'] = [i[1][0] for i in x]\n",
    "df['spec_centroid_min'] = [i[2][0] for i in x]\n",
    "df['spec_centroid_25%'] = [i[3][0] for i in x]\n",
    "df['spec_centroid_median'] = [i[4][0] for i in x]\n",
    "df['spec_centroid_75%'] = [i[5][0] for i in x]\n",
    "df['spec_centroid_max'] = [i[6][0] for i in x]\n",
    "df['spec_centroid_IQR'] = abs(df['spec_centroid_25%'] - df['spec_centroid_75%'])\n",
    "\n",
    "filter_col = [col for col in df if col.startswith('spec_cen')]\n",
    "df[filter_col].head(2)"
   ]
  },
  {
   "cell_type": "code",
   "execution_count": 33,
   "metadata": {},
   "outputs": [
    {
     "data": {
      "text/html": [
       "<div>\n",
       "<style scoped>\n",
       "    .dataframe tbody tr th:only-of-type {\n",
       "        vertical-align: middle;\n",
       "    }\n",
       "\n",
       "    .dataframe tbody tr th {\n",
       "        vertical-align: top;\n",
       "    }\n",
       "\n",
       "    .dataframe thead th {\n",
       "        text-align: right;\n",
       "    }\n",
       "</style>\n",
       "<table border=\"1\" class=\"dataframe\">\n",
       "  <thead>\n",
       "    <tr style=\"text-align: right;\">\n",
       "      <th></th>\n",
       "      <th>spec_bandwidth</th>\n",
       "      <th>spec_bandwidth_mean</th>\n",
       "      <th>spec_bandwidth_std</th>\n",
       "      <th>spec_bandwidth_min</th>\n",
       "      <th>spec_bandwidth_25%</th>\n",
       "      <th>spec_bandwidth_median</th>\n",
       "      <th>spec_bandwidth_75%</th>\n",
       "      <th>spec_bandwidth_max</th>\n",
       "      <th>spec_bandwidth_IQR</th>\n",
       "    </tr>\n",
       "  </thead>\n",
       "  <tbody>\n",
       "    <tr>\n",
       "      <th>0</th>\n",
       "      <td>[[2723.8404070947267, 2942.132238742537, 2902....</td>\n",
       "      <td>2660.828819</td>\n",
       "      <td>189.696997</td>\n",
       "      <td>2431.405775</td>\n",
       "      <td>2485.397769</td>\n",
       "      <td>2670.68137</td>\n",
       "      <td>2810.590305</td>\n",
       "      <td>2942.132239</td>\n",
       "      <td>325.192536</td>\n",
       "    </tr>\n",
       "    <tr>\n",
       "      <th>1</th>\n",
       "      <td>[[2418.1488449401686, 2818.180807943793, 2943....</td>\n",
       "      <td>2622.822330</td>\n",
       "      <td>225.973558</td>\n",
       "      <td>2336.318909</td>\n",
       "      <td>2418.148845</td>\n",
       "      <td>2617.75226</td>\n",
       "      <td>2818.180808</td>\n",
       "      <td>2943.906803</td>\n",
       "      <td>400.031963</td>\n",
       "    </tr>\n",
       "  </tbody>\n",
       "</table>\n",
       "</div>"
      ],
      "text/plain": [
       "                                      spec_bandwidth  spec_bandwidth_mean  \\\n",
       "0  [[2723.8404070947267, 2942.132238742537, 2902....          2660.828819   \n",
       "1  [[2418.1488449401686, 2818.180807943793, 2943....          2622.822330   \n",
       "\n",
       "   spec_bandwidth_std  spec_bandwidth_min  spec_bandwidth_25%  \\\n",
       "0          189.696997         2431.405775         2485.397769   \n",
       "1          225.973558         2336.318909         2418.148845   \n",
       "\n",
       "   spec_bandwidth_median  spec_bandwidth_75%  spec_bandwidth_max  \\\n",
       "0             2670.68137         2810.590305         2942.132239   \n",
       "1             2617.75226         2818.180808         2943.906803   \n",
       "\n",
       "   spec_bandwidth_IQR  \n",
       "0          325.192536  \n",
       "1          400.031963  "
      ]
     },
     "execution_count": 33,
     "metadata": {},
     "output_type": "execute_result"
    }
   ],
   "source": [
    "df['spec_bandwidth'] = df['y_trimmed'].map(calc_spec_bandwidth)\n",
    "\n",
    "x = [get_summary_stats(i) for i in df['spec_bandwidth']]\n",
    "\n",
    "df['spec_bandwidth_mean'] = [i[0][0] for i in x]\n",
    "df['spec_bandwidth_std'] = [i[1][0] for i in x]\n",
    "df['spec_bandwidth_min'] = [i[2][0] for i in x]\n",
    "df['spec_bandwidth_25%'] = [i[3][0] for i in x]\n",
    "df['spec_bandwidth_median'] = [i[4][0] for i in x]\n",
    "df['spec_bandwidth_75%'] = [i[5][0] for i in x]\n",
    "df['spec_bandwidth_max'] = [i[6][0] for i in x]\n",
    "df['spec_bandwidth_IQR'] = abs(df['spec_bandwidth_25%'] - df['spec_bandwidth_75%'])\n",
    "\n",
    "filter_col = [col for col in df if col.startswith('spec_band')]\n",
    "df[filter_col].head(2)"
   ]
  },
  {
   "cell_type": "code",
   "execution_count": 34,
   "metadata": {},
   "outputs": [
    {
     "data": {
      "text/html": [
       "<div>\n",
       "<style scoped>\n",
       "    .dataframe tbody tr th:only-of-type {\n",
       "        vertical-align: middle;\n",
       "    }\n",
       "\n",
       "    .dataframe tbody tr th {\n",
       "        vertical-align: top;\n",
       "    }\n",
       "\n",
       "    .dataframe thead th {\n",
       "        text-align: right;\n",
       "    }\n",
       "</style>\n",
       "<table border=\"1\" class=\"dataframe\">\n",
       "  <thead>\n",
       "    <tr style=\"text-align: right;\">\n",
       "      <th></th>\n",
       "      <th>spec_rolloff</th>\n",
       "      <th>spec_rolloff_mean</th>\n",
       "      <th>spec_rolloff_std</th>\n",
       "      <th>spec_rolloff_min</th>\n",
       "      <th>spec_rolloff_25%</th>\n",
       "      <th>spec_rolloff_median</th>\n",
       "      <th>spec_rolloff_75%</th>\n",
       "      <th>spec_rolloff_max</th>\n",
       "      <th>spec_rolloff_IQR</th>\n",
       "    </tr>\n",
       "  </thead>\n",
       "  <tbody>\n",
       "    <tr>\n",
       "      <th>0</th>\n",
       "      <td>[[5695.5322265625, 6599.9267578125, 7149.02343...</td>\n",
       "      <td>5526.855469</td>\n",
       "      <td>1139.460836</td>\n",
       "      <td>4220.507812</td>\n",
       "      <td>4317.407227</td>\n",
       "      <td>5620.166016</td>\n",
       "      <td>6519.177246</td>\n",
       "      <td>7149.023438</td>\n",
       "      <td>2201.770020</td>\n",
       "    </tr>\n",
       "    <tr>\n",
       "      <th>1</th>\n",
       "      <td>[[4694.23828125, 6201.5625, 7084.423828125, 70...</td>\n",
       "      <td>5302.137169</td>\n",
       "      <td>1172.823584</td>\n",
       "      <td>3811.376953</td>\n",
       "      <td>4112.841797</td>\n",
       "      <td>5071.069336</td>\n",
       "      <td>6201.562500</td>\n",
       "      <td>7084.423828</td>\n",
       "      <td>2088.720703</td>\n",
       "    </tr>\n",
       "  </tbody>\n",
       "</table>\n",
       "</div>"
      ],
      "text/plain": [
       "                                        spec_rolloff  spec_rolloff_mean  \\\n",
       "0  [[5695.5322265625, 6599.9267578125, 7149.02343...        5526.855469   \n",
       "1  [[4694.23828125, 6201.5625, 7084.423828125, 70...        5302.137169   \n",
       "\n",
       "   spec_rolloff_std  spec_rolloff_min  spec_rolloff_25%  spec_rolloff_median  \\\n",
       "0       1139.460836       4220.507812       4317.407227          5620.166016   \n",
       "1       1172.823584       3811.376953       4112.841797          5071.069336   \n",
       "\n",
       "   spec_rolloff_75%  spec_rolloff_max  spec_rolloff_IQR  \n",
       "0       6519.177246       7149.023438       2201.770020  \n",
       "1       6201.562500       7084.423828       2088.720703  "
      ]
     },
     "execution_count": 34,
     "metadata": {},
     "output_type": "execute_result"
    }
   ],
   "source": [
    "df['spec_rolloff'] = df['y_trimmed'].map(calc_spec_rolloff)\n",
    "\n",
    "x = [get_summary_stats(i) for i in df['spec_rolloff']]\n",
    "\n",
    "df['spec_rolloff_mean'] = [i[0][0] for i in x]\n",
    "df['spec_rolloff_std'] = [i[1][0] for i in x]\n",
    "df['spec_rolloff_min'] = [i[2][0] for i in x]\n",
    "df['spec_rolloff_25%'] = [i[3][0] for i in x]\n",
    "df['spec_rolloff_median'] = [i[4][0] for i in x]\n",
    "df['spec_rolloff_75%'] = [i[5][0] for i in x]\n",
    "df['spec_rolloff_max'] = [i[6][0] for i in x]\n",
    "df['spec_rolloff_IQR'] = abs(df['spec_rolloff_25%'] - df['spec_rolloff_75%'])\n",
    "\n",
    "filter_col = [col for col in df if col.startswith('spec_roll')]\n",
    "df[filter_col].head(2)"
   ]
  },
  {
   "cell_type": "code",
   "execution_count": 35,
   "metadata": {},
   "outputs": [
    {
     "data": {
      "text/html": [
       "<div>\n",
       "<style scoped>\n",
       "    .dataframe tbody tr th:only-of-type {\n",
       "        vertical-align: middle;\n",
       "    }\n",
       "\n",
       "    .dataframe tbody tr th {\n",
       "        vertical-align: top;\n",
       "    }\n",
       "\n",
       "    .dataframe thead th {\n",
       "        text-align: right;\n",
       "    }\n",
       "</style>\n",
       "<table border=\"1\" class=\"dataframe\">\n",
       "  <thead>\n",
       "    <tr style=\"text-align: right;\">\n",
       "      <th></th>\n",
       "      <th>zcr</th>\n",
       "      <th>zcr_mean</th>\n",
       "      <th>zcr_std</th>\n",
       "      <th>zcr_min</th>\n",
       "      <th>zcr_25%</th>\n",
       "      <th>zcr_median</th>\n",
       "      <th>zcr_75%</th>\n",
       "      <th>zcr_max</th>\n",
       "      <th>zcr_IQR</th>\n",
       "    </tr>\n",
       "  </thead>\n",
       "  <tbody>\n",
       "    <tr>\n",
       "      <th>0</th>\n",
       "      <td>[[0.060546875, 0.10595703125, 0.12939453125, 0...</td>\n",
       "      <td>0.061808</td>\n",
       "      <td>0.041066</td>\n",
       "      <td>0.017578</td>\n",
       "      <td>0.027588</td>\n",
       "      <td>0.051758</td>\n",
       "      <td>0.100830</td>\n",
       "      <td>0.129395</td>\n",
       "      <td>0.073242</td>\n",
       "    </tr>\n",
       "    <tr>\n",
       "      <th>1</th>\n",
       "      <td>[[0.05078125, 0.09716796875, 0.11181640625, 0....</td>\n",
       "      <td>0.056753</td>\n",
       "      <td>0.033200</td>\n",
       "      <td>0.022461</td>\n",
       "      <td>0.028320</td>\n",
       "      <td>0.042969</td>\n",
       "      <td>0.094238</td>\n",
       "      <td>0.111816</td>\n",
       "      <td>0.065918</td>\n",
       "    </tr>\n",
       "  </tbody>\n",
       "</table>\n",
       "</div>"
      ],
      "text/plain": [
       "                                                 zcr  zcr_mean   zcr_std  \\\n",
       "0  [[0.060546875, 0.10595703125, 0.12939453125, 0...  0.061808  0.041066   \n",
       "1  [[0.05078125, 0.09716796875, 0.11181640625, 0....  0.056753  0.033200   \n",
       "\n",
       "    zcr_min   zcr_25%  zcr_median   zcr_75%   zcr_max   zcr_IQR  \n",
       "0  0.017578  0.027588    0.051758  0.100830  0.129395  0.073242  \n",
       "1  0.022461  0.028320    0.042969  0.094238  0.111816  0.065918  "
      ]
     },
     "execution_count": 35,
     "metadata": {},
     "output_type": "execute_result"
    }
   ],
   "source": [
    "df['zcr'] = df['y_trimmed'].map(calc_zero_cross)\n",
    "\n",
    "x = [get_summary_stats(i) for i in df['zcr']]\n",
    "\n",
    "df['zcr_mean'] = [i[0][0] for i in x]\n",
    "df['zcr_std'] = [i[1][0] for i in x]\n",
    "df['zcr_min'] = [i[2][0] for i in x]\n",
    "df['zcr_25%'] = [i[3][0] for i in x]\n",
    "df['zcr_median'] = [i[4][0] for i in x]\n",
    "df['zcr_75%'] = [i[5][0] for i in x]\n",
    "df['zcr_max'] = [i[6][0] for i in x]\n",
    "df['zcr_IQR'] = abs(df['zcr_25%'] - df['zcr_75%'])\n",
    "\n",
    "filter_col = [col for col in df if col.startswith('zcr')]\n",
    "df[filter_col].head(2)"
   ]
  },
  {
   "cell_type": "code",
   "execution_count": 36,
   "metadata": {
    "scrolled": true
   },
   "outputs": [
    {
     "name": "stdout",
     "output_type": "stream",
     "text": [
      "<class 'pandas.core.frame.DataFrame'>\n",
      "Int64Index: 4000 entries, 0 to 639\n",
      "Data columns (total 52 columns):\n",
      " #   Column                 Non-Null Count  Dtype  \n",
      "---  ------                 --------------  -----  \n",
      " 0   file_name              4000 non-null   object \n",
      " 1   ins                    4000 non-null   object \n",
      " 2   sr                     4000 non-null   int64  \n",
      " 3   y                      4000 non-null   object \n",
      " 4   y_trimmed              4000 non-null   object \n",
      " 5   length                 4000 non-null   float64\n",
      " 6   length_trimmed         4000 non-null   float64\n",
      " 7   rms                    4000 non-null   object \n",
      " 8   rms_mean               4000 non-null   float64\n",
      " 9   rms_std                4000 non-null   float64\n",
      " 10  rms_min                4000 non-null   float64\n",
      " 11  rms_25%                4000 non-null   float64\n",
      " 12  rms_median             4000 non-null   float64\n",
      " 13  rms_75%                4000 non-null   float64\n",
      " 14  rms_max                4000 non-null   float64\n",
      " 15  rms_IQR                4000 non-null   float64\n",
      " 16  spec_centroid          4000 non-null   object \n",
      " 17  spec_centroid_mean     4000 non-null   float64\n",
      " 18  spec_centroid_std      4000 non-null   float64\n",
      " 19  spec_centroid_min      4000 non-null   float64\n",
      " 20  spec_centroid_25%      4000 non-null   float64\n",
      " 21  spec_centroid_median   4000 non-null   float64\n",
      " 22  spec_centroid_75%      4000 non-null   float64\n",
      " 23  spec_centroid_max      4000 non-null   float64\n",
      " 24  spec_centroid_IQR      4000 non-null   float64\n",
      " 25  spec_bandwidth         4000 non-null   object \n",
      " 26  spec_bandwidth_mean    4000 non-null   float64\n",
      " 27  spec_bandwidth_std     4000 non-null   float64\n",
      " 28  spec_bandwidth_min     4000 non-null   float64\n",
      " 29  spec_bandwidth_25%     4000 non-null   float64\n",
      " 30  spec_bandwidth_median  4000 non-null   float64\n",
      " 31  spec_bandwidth_75%     4000 non-null   float64\n",
      " 32  spec_bandwidth_max     4000 non-null   float64\n",
      " 33  spec_bandwidth_IQR     4000 non-null   float64\n",
      " 34  spec_rolloff           4000 non-null   object \n",
      " 35  spec_rolloff_mean      4000 non-null   float64\n",
      " 36  spec_rolloff_std       4000 non-null   float64\n",
      " 37  spec_rolloff_min       4000 non-null   float64\n",
      " 38  spec_rolloff_25%       4000 non-null   float64\n",
      " 39  spec_rolloff_median    4000 non-null   float64\n",
      " 40  spec_rolloff_75%       4000 non-null   float64\n",
      " 41  spec_rolloff_max       4000 non-null   float64\n",
      " 42  spec_rolloff_IQR       4000 non-null   float64\n",
      " 43  zcr                    4000 non-null   object \n",
      " 44  zcr_mean               4000 non-null   float64\n",
      " 45  zcr_std                4000 non-null   float64\n",
      " 46  zcr_min                4000 non-null   float64\n",
      " 47  zcr_25%                4000 non-null   float64\n",
      " 48  zcr_median             4000 non-null   float64\n",
      " 49  zcr_75%                4000 non-null   float64\n",
      " 50  zcr_max                4000 non-null   float64\n",
      " 51  zcr_IQR                4000 non-null   float64\n",
      "dtypes: float64(42), int64(1), object(9)\n",
      "memory usage: 1.6+ MB\n"
     ]
    }
   ],
   "source": [
    "df.info()"
   ]
  },
  {
   "cell_type": "code",
   "execution_count": null,
   "metadata": {},
   "outputs": [],
   "source": [
    "# # calc root mean square value for each frame of audio sample\n",
    "# librosa.feature.rms(y=y, frame_length=2048)\n",
    "\n",
    "# # how low or how high sound is - takes avg of pitch\n",
    "# librosa.feature.spectral_centroid(y=y, sr=sr)\n",
    "\n",
    "# # band-width at one half peak maximum energy\n",
    "# librosa.feature.spectral_bandwidth(y=y, sr=sr)\n",
    "\n",
    "# # measures frequency at which some percentage\n",
    "# # (usually 85%) of total energy is contained\n",
    "# librosa.feature.spectral_rolloff(y=y, sr=sr)\n",
    "\n",
    "# # compute zero crossing rate of an audio time series\n",
    "# # default frame length is 2048\n",
    "# librosa.feature.zero_crossing_rate(y=y, frame_length=2048)"
   ]
  },
  {
   "cell_type": "code",
   "execution_count": null,
   "metadata": {},
   "outputs": [],
   "source": [
    "# q = calc_rms(y=df['y_trimmed'].iloc[-1])\n",
    "# w = pd.DataFrame(q).T.describe()\n",
    "# print(w.index)\n",
    "# w.loc['std']\n",
    "\n",
    "# output:\n",
    "# Index(['count', 'mean', 'std', 'min', '25%', '50%', '75%', 'max'], dtype='object')\n",
    "# 0    0.002064\n",
    "# Name: std, dtype: float64"
   ]
  },
  {
   "cell_type": "code",
   "execution_count": null,
   "metadata": {},
   "outputs": [],
   "source": [
    "#[get_summary_stats(i)[0] for i in df['rms']]"
   ]
  },
  {
   "cell_type": "markdown",
   "metadata": {},
   "source": [
    "## ML Testing"
   ]
  },
  {
   "cell_type": "code",
   "execution_count": 37,
   "metadata": {},
   "outputs": [],
   "source": [
    "cols_to_drop = ['ins', 'file_name', 'sr', 'y', 'y_trimmed',\n",
    "               'rms', 'spec_centroid', 'spec_bandwidth',\n",
    "               'spec_rolloff', 'zcr']"
   ]
  },
  {
   "cell_type": "code",
   "execution_count": 38,
   "metadata": {},
   "outputs": [],
   "source": [
    "X = df.drop(columns=cols_to_drop)\n",
    "y = df['ins']"
   ]
  },
  {
   "cell_type": "code",
   "execution_count": 39,
   "metadata": {},
   "outputs": [
    {
     "data": {
      "text/html": [
       "<div>\n",
       "<style scoped>\n",
       "    .dataframe tbody tr th:only-of-type {\n",
       "        vertical-align: middle;\n",
       "    }\n",
       "\n",
       "    .dataframe tbody tr th {\n",
       "        vertical-align: top;\n",
       "    }\n",
       "\n",
       "    .dataframe thead th {\n",
       "        text-align: right;\n",
       "    }\n",
       "</style>\n",
       "<table border=\"1\" class=\"dataframe\">\n",
       "  <thead>\n",
       "    <tr style=\"text-align: right;\">\n",
       "      <th></th>\n",
       "      <th>length</th>\n",
       "      <th>length_trimmed</th>\n",
       "      <th>rms_mean</th>\n",
       "      <th>rms_std</th>\n",
       "      <th>rms_min</th>\n",
       "      <th>rms_25%</th>\n",
       "      <th>rms_median</th>\n",
       "      <th>rms_75%</th>\n",
       "      <th>rms_max</th>\n",
       "      <th>rms_IQR</th>\n",
       "      <th>...</th>\n",
       "      <th>spec_rolloff_max</th>\n",
       "      <th>spec_rolloff_IQR</th>\n",
       "      <th>zcr_mean</th>\n",
       "      <th>zcr_std</th>\n",
       "      <th>zcr_min</th>\n",
       "      <th>zcr_25%</th>\n",
       "      <th>zcr_median</th>\n",
       "      <th>zcr_75%</th>\n",
       "      <th>zcr_max</th>\n",
       "      <th>zcr_IQR</th>\n",
       "    </tr>\n",
       "  </thead>\n",
       "  <tbody>\n",
       "    <tr>\n",
       "      <th>0</th>\n",
       "      <td>0.932336</td>\n",
       "      <td>0.255420</td>\n",
       "      <td>0.001781</td>\n",
       "      <td>0.001661</td>\n",
       "      <td>0.000206</td>\n",
       "      <td>0.000606</td>\n",
       "      <td>0.000920</td>\n",
       "      <td>0.003062</td>\n",
       "      <td>0.004408</td>\n",
       "      <td>0.002456</td>\n",
       "      <td>...</td>\n",
       "      <td>7149.023438</td>\n",
       "      <td>2201.770020</td>\n",
       "      <td>0.061808</td>\n",
       "      <td>0.041066</td>\n",
       "      <td>0.017578</td>\n",
       "      <td>0.027588</td>\n",
       "      <td>0.051758</td>\n",
       "      <td>0.100830</td>\n",
       "      <td>0.129395</td>\n",
       "      <td>0.073242</td>\n",
       "    </tr>\n",
       "    <tr>\n",
       "      <th>1</th>\n",
       "      <td>0.640068</td>\n",
       "      <td>0.278639</td>\n",
       "      <td>0.001321</td>\n",
       "      <td>0.001256</td>\n",
       "      <td>0.000134</td>\n",
       "      <td>0.000447</td>\n",
       "      <td>0.000693</td>\n",
       "      <td>0.002137</td>\n",
       "      <td>0.003410</td>\n",
       "      <td>0.001690</td>\n",
       "      <td>...</td>\n",
       "      <td>7084.423828</td>\n",
       "      <td>2088.720703</td>\n",
       "      <td>0.056753</td>\n",
       "      <td>0.033200</td>\n",
       "      <td>0.022461</td>\n",
       "      <td>0.028320</td>\n",
       "      <td>0.042969</td>\n",
       "      <td>0.094238</td>\n",
       "      <td>0.111816</td>\n",
       "      <td>0.065918</td>\n",
       "    </tr>\n",
       "    <tr>\n",
       "      <th>2</th>\n",
       "      <td>0.792449</td>\n",
       "      <td>0.255420</td>\n",
       "      <td>0.002057</td>\n",
       "      <td>0.002021</td>\n",
       "      <td>0.000220</td>\n",
       "      <td>0.000640</td>\n",
       "      <td>0.000990</td>\n",
       "      <td>0.003485</td>\n",
       "      <td>0.005278</td>\n",
       "      <td>0.002845</td>\n",
       "      <td>...</td>\n",
       "      <td>7149.023438</td>\n",
       "      <td>2632.434082</td>\n",
       "      <td>0.079061</td>\n",
       "      <td>0.053199</td>\n",
       "      <td>0.019531</td>\n",
       "      <td>0.034912</td>\n",
       "      <td>0.066650</td>\n",
       "      <td>0.125122</td>\n",
       "      <td>0.171387</td>\n",
       "      <td>0.090210</td>\n",
       "    </tr>\n",
       "  </tbody>\n",
       "</table>\n",
       "<p>3 rows × 42 columns</p>\n",
       "</div>"
      ],
      "text/plain": [
       "     length  length_trimmed  rms_mean   rms_std   rms_min   rms_25%  \\\n",
       "0  0.932336        0.255420  0.001781  0.001661  0.000206  0.000606   \n",
       "1  0.640068        0.278639  0.001321  0.001256  0.000134  0.000447   \n",
       "2  0.792449        0.255420  0.002057  0.002021  0.000220  0.000640   \n",
       "\n",
       "   rms_median   rms_75%   rms_max   rms_IQR  ...  spec_rolloff_max  \\\n",
       "0    0.000920  0.003062  0.004408  0.002456  ...       7149.023438   \n",
       "1    0.000693  0.002137  0.003410  0.001690  ...       7084.423828   \n",
       "2    0.000990  0.003485  0.005278  0.002845  ...       7149.023438   \n",
       "\n",
       "   spec_rolloff_IQR  zcr_mean   zcr_std   zcr_min   zcr_25%  zcr_median  \\\n",
       "0       2201.770020  0.061808  0.041066  0.017578  0.027588    0.051758   \n",
       "1       2088.720703  0.056753  0.033200  0.022461  0.028320    0.042969   \n",
       "2       2632.434082  0.079061  0.053199  0.019531  0.034912    0.066650   \n",
       "\n",
       "    zcr_75%   zcr_max   zcr_IQR  \n",
       "0  0.100830  0.129395  0.073242  \n",
       "1  0.094238  0.111816  0.065918  \n",
       "2  0.125122  0.171387  0.090210  \n",
       "\n",
       "[3 rows x 42 columns]"
      ]
     },
     "execution_count": 39,
     "metadata": {},
     "output_type": "execute_result"
    }
   ],
   "source": [
    "X.head(3)"
   ]
  },
  {
   "cell_type": "code",
   "execution_count": 55,
   "metadata": {},
   "outputs": [],
   "source": [
    "X_train, X_test, y_train, y_test = train_test_split(X, y,\n",
    "                                                    random_state=42)"
   ]
  },
  {
   "cell_type": "code",
   "execution_count": 63,
   "metadata": {},
   "outputs": [
    {
     "data": {
      "text/plain": [
       "(3000, 42)"
      ]
     },
     "execution_count": 63,
     "metadata": {},
     "output_type": "execute_result"
    }
   ],
   "source": [
    "X_train.shape"
   ]
  },
  {
   "cell_type": "code",
   "execution_count": 57,
   "metadata": {},
   "outputs": [
    {
     "data": {
      "text/plain": [
       "(1000, 42)"
      ]
     },
     "execution_count": 57,
     "metadata": {},
     "output_type": "execute_result"
    }
   ],
   "source": [
    "X_test.shape"
   ]
  },
  {
   "cell_type": "code",
   "execution_count": 60,
   "metadata": {},
   "outputs": [
    {
     "data": {
      "text/plain": [
       "hihat        984\n",
       "crash        486\n",
       "snare        407\n",
       "kick         352\n",
       "rack_tom     293\n",
       "floor_tom    286\n",
       "ride         192\n",
       "Name: ins, dtype: int64"
      ]
     },
     "execution_count": 60,
     "metadata": {},
     "output_type": "execute_result"
    }
   ],
   "source": [
    "y_train.value_counts()"
   ]
  },
  {
   "cell_type": "code",
   "execution_count": 61,
   "metadata": {},
   "outputs": [
    {
     "data": {
      "text/plain": [
       "hihat        296\n",
       "snare        169\n",
       "crash        154\n",
       "kick         128\n",
       "floor_tom     98\n",
       "rack_tom      91\n",
       "ride          64\n",
       "Name: ins, dtype: int64"
      ]
     },
     "execution_count": 61,
     "metadata": {},
     "output_type": "execute_result"
    }
   ],
   "source": [
    "y_test.value_counts()"
   ]
  },
  {
   "cell_type": "code",
   "execution_count": null,
   "metadata": {},
   "outputs": [],
   "source": []
  },
  {
   "cell_type": "code",
   "execution_count": null,
   "metadata": {},
   "outputs": [],
   "source": []
  },
  {
   "cell_type": "code",
   "execution_count": null,
   "metadata": {},
   "outputs": [],
   "source": []
  },
  {
   "cell_type": "code",
   "execution_count": 68,
   "metadata": {},
   "outputs": [
    {
     "data": {
      "text/plain": [
       "RandomForestClassifier(random_state=42)"
      ]
     },
     "execution_count": 68,
     "metadata": {},
     "output_type": "execute_result"
    }
   ],
   "source": [
    "rf = RandomForestClassifier(n_estimators=100, random_state=42)\n",
    "\n",
    "rf.fit(X_train, y_train)"
   ]
  },
  {
   "cell_type": "code",
   "execution_count": 69,
   "metadata": {},
   "outputs": [],
   "source": [
    "results = rf.predict(X_test)"
   ]
  },
  {
   "cell_type": "code",
   "execution_count": 70,
   "metadata": {},
   "outputs": [
    {
     "name": "stdout",
     "output_type": "stream",
     "text": [
      "              precision    recall  f1-score   support\n",
      "\n",
      "       crash       0.94      0.97      0.96       154\n",
      "   floor_tom       1.00      0.99      0.99        98\n",
      "       hihat       0.98      0.99      0.98       296\n",
      "        kick       1.00      1.00      1.00       128\n",
      "    rack_tom       1.00      1.00      1.00        91\n",
      "        ride       0.98      0.91      0.94        64\n",
      "       snare       1.00      1.00      1.00       169\n",
      "\n",
      "    accuracy                           0.98      1000\n",
      "   macro avg       0.99      0.98      0.98      1000\n",
      "weighted avg       0.99      0.98      0.98      1000\n",
      "\n"
     ]
    }
   ],
   "source": [
    "print(classification_report(y_test, results))"
   ]
  },
  {
   "cell_type": "code",
   "execution_count": 71,
   "metadata": {},
   "outputs": [
    {
     "data": {
      "image/png": "[encoded data removed]",
      "text/plain": [
       "<Figure size 432x288 with 2 Axes>"
      ]
     },
     "metadata": {
      "needs_background": "light"
     },
     "output_type": "display_data"
    }
   ],
   "source": [
    "# Create confusion matrix\n",
    "cm = confusion_matrix(y_test, results)\n",
    "\n",
    "# display confusion matrix with ConfusionMatrixDisplay\n",
    "cm_display = ConfusionMatrixDisplay(confusion_matrix=cm, display_labels=rf.classes_)\n",
    "cm_display.plot();"
   ]
  },
  {
   "cell_type": "code",
   "execution_count": null,
   "metadata": {},
   "outputs": [],
   "source": []
  },
  {
   "cell_type": "code",
   "execution_count": null,
   "metadata": {},
   "outputs": [],
   "source": []
  },
  {
   "cell_type": "code",
   "execution_count": null,
   "metadata": {},
   "outputs": [],
   "source": []
  },
  {
   "cell_type": "code",
   "execution_count": null,
   "metadata": {},
   "outputs": [],
   "source": []
  },
  {
   "cell_type": "code",
   "execution_count": null,
   "metadata": {},
   "outputs": [],
   "source": []
  },
  {
   "cell_type": "code",
   "execution_count": null,
   "metadata": {},
   "outputs": [],
   "source": []
  },
  {
   "cell_type": "code",
   "execution_count": null,
   "metadata": {},
   "outputs": [],
   "source": []
  },
  {
   "cell_type": "code",
   "execution_count": null,
   "metadata": {},
   "outputs": [],
   "source": []
  },
  {
   "cell_type": "markdown",
   "metadata": {},
   "source": [
    "# Plot\n",
    "\n",
    "### Trimming"
   ]
  },
  {
   "cell_type": "code",
   "execution_count": null,
   "metadata": {},
   "outputs": [],
   "source": [
    "# ipython display audio method - used on last cymbal sound in library\n",
    "ipd.Audio(df['file_name'].iloc[-1])"
   ]
  },
  {
   "cell_type": "code",
   "execution_count": null,
   "metadata": {},
   "outputs": [],
   "source": [
    "y, sr = librosa.load(df['file_name'].iloc[-1])\n",
    "# print(f'y: {y[:10]}')\n",
    "# print(f'shape y: {y.shape}')\n",
    "# print(f'sr: {sr}')\n",
    "\n",
    "#--output--\n",
    "#y: [-1.5206266e-05 -1.3785218e-05 -8.1884637e-06  1.2335660e-06\n",
    " #-1.5576163e-05 -1.8971021e-05  1.1400133e-05 -7.5695393e-06\n",
    " #-2.3335941e-05 -1.7152441e-05]\n",
    "#shape y: (20558,)\n",
    "#sr: 22050"
   ]
  },
  {
   "cell_type": "code",
   "execution_count": null,
   "metadata": {},
   "outputs": [],
   "source": [
    "pd.Series(y).plot(lw=0.5, \n",
    "                  title='Raw Audio File');"
   ]
  },
  {
   "cell_type": "markdown",
   "metadata": {},
   "source": [
    "trim low end db off and provide index?.."
   ]
  },
  {
   "cell_type": "code",
   "execution_count": null,
   "metadata": {
    "scrolled": true
   },
   "outputs": [],
   "source": [
    "y_trimmed, ind = librosa.effects.trim(y, top_db=25)\n",
    "\n",
    "pd.Series(y_trimmed).plot(lw=0.5, \n",
    "                          title='Trimmed Audio File');"
   ]
  },
  {
   "cell_type": "code",
   "execution_count": null,
   "metadata": {},
   "outputs": [],
   "source": [
    "ipd.Audio(y_trimmed, rate=22050)"
   ]
  },
  {
   "cell_type": "code",
   "execution_count": null,
   "metadata": {},
   "outputs": [],
   "source": [
    "y_zoomed = y[1500:2000]\n",
    "\n",
    "pd.Series(y_zoomed).plot(lw=1, \n",
    "                  title='Zoomed Audio File');"
   ]
  },
  {
   "cell_type": "markdown",
   "metadata": {},
   "source": [
    "## Spectogram"
   ]
  },
  {
   "cell_type": "markdown",
   "metadata": {},
   "source": [
    "stft (Short-time Fourier transform)\n",
    "\n",
    "    Signature:\n",
    "    librosa.stft(\n",
    "        y,\n",
    "        *,\n",
    "        n_fft=2048,\n",
    "        hop_length=None,\n",
    "        win_length=None,\n",
    "        window='hann',\n",
    "        center=True,\n",
    "        dtype=None,\n",
    "        pad_mode='constant',\n",
    "    )"
   ]
  },
  {
   "cell_type": "code",
   "execution_count": null,
   "metadata": {},
   "outputs": [],
   "source": [
    "D = librosa.stft(y)\n",
    "S_db = librosa.amplitude_to_db(np.abs(D), ref=np.max)\n",
    "S_db.shape"
   ]
  },
  {
   "cell_type": "code",
   "execution_count": null,
   "metadata": {},
   "outputs": [],
   "source": [
    "# plot transformed audio data\n",
    "fig, ax = plt.subplots(figsize=(10, 5))\n",
    "img = librosa.display.specshow(S_db,\n",
    "                              x_axis='time',\n",
    "                              y_axis='log',\n",
    "                              ax=ax)\n",
    "ax.set_title(\"Spectogram of Audio File\", fontsize=18)\n",
    "fig.colorbar(img, ax=ax, format=f'%0.2f')\n",
    "plt.show()"
   ]
  },
  {
   "cell_type": "code",
   "execution_count": null,
   "metadata": {},
   "outputs": [],
   "source": [
    "# plot transformed TRIMMED audio data\n",
    "\n",
    "D = librosa.stft(y_trimmed)\n",
    "S_db = librosa.amplitude_to_db(np.abs(D), ref=np.max)\n",
    "S_db.shape\n",
    "\n",
    "\n",
    "fig, ax = plt.subplots(figsize=(10, 5))\n",
    "img = librosa.display.specshow(S_db,\n",
    "                              x_axis='time',\n",
    "                              y_axis='log',\n",
    "                              ax=ax)\n",
    "ax.set_title(\"Spectogram of TRIMMED Audio File\", fontsize=18)\n",
    "fig.colorbar(img, ax=ax, format=f'%0.2f')\n",
    "plt.show()"
   ]
  },
  {
   "cell_type": "markdown",
   "metadata": {},
   "source": [
    "## Mel Spectogram"
   ]
  },
  {
   "cell_type": "code",
   "execution_count": null,
   "metadata": {},
   "outputs": [],
   "source": [
    "S = librosa.feature.melspectrogram(y, sr=sr, n_mels=128)\n",
    "\n",
    "S_db_mel = librosa.amplitude_to_db(np.abs(S), ref=np.max)"
   ]
  },
  {
   "cell_type": "code",
   "execution_count": null,
   "metadata": {},
   "outputs": [],
   "source": [
    "# plot transformed audio data\n",
    "fig, ax = plt.subplots(figsize=(10, 5))\n",
    "img = librosa.display.specshow(S_db_mel,\n",
    "                              x_axis='time',\n",
    "                              y_axis='log',\n",
    "                              ax=ax)\n",
    "ax.set_title(\"Mel Spectogram of Audio File\", fontsize=18)\n",
    "fig.colorbar(img, ax=ax, format=f'%0.2f')\n",
    "plt.show()"
   ]
  },
  {
   "cell_type": "code",
   "execution_count": null,
   "metadata": {},
   "outputs": [],
   "source": [
    "S_db_mel"
   ]
  },
  {
   "cell_type": "code",
   "execution_count": null,
   "metadata": {},
   "outputs": [],
   "source": []
  }
 ],
 "metadata": {
  "kernelspec": {
   "display_name": "Python (learn-env)",
   "language": "python",
   "name": "learn-env"
  },
  "language_info": {
   "codemirror_mode": {
    "name": "ipython",
    "version": 3
   },
   "file_extension": ".py",
   "mimetype": "text/x-python",
   "name": "python",
   "nbconvert_exporter": "python",
   "pygments_lexer": "ipython3",
   "version": "3.8.5"
  }
 },
 "nbformat": 4,
 "nbformat_minor": 4
}
