{
 "cells": [
  {
   "cell_type": "code",
   "execution_count": 1,
   "metadata": {},
   "outputs": [],
   "source": [
    "import pandas as pd\n",
    "import numpy as np\n",
    "import matplotlib.pyplot as plt\n",
    "\n",
    "from glob import glob\n",
    "\n",
    "import librosa\n",
    "import librosa.display\n",
    "import IPython.display as ipd\n",
    "\n",
    "#from itertools import cycle\n",
    "\n",
    "from sklearn.model_selection import train_test_split, KFold\n",
    "from sklearn.metrics import balanced_accuracy_score, classification_report\n",
    "from sklearn.metrics import confusion_matrix, plot_confusion_matrix\n",
    "from sklearn.tree import DecisionTreeClassifier\n",
    "from sklearn.ensemble import RandomForestClassifier\n",
    "import xgboost as xgb\n",
    "\n",
    "import pickle"
   ]
  },
  {
   "cell_type": "code",
   "execution_count": 2,
   "metadata": {},
   "outputs": [],
   "source": [
    "# separate main drum components\n",
    "files_snare = glob('data/MDLib2.2/MDLib2.2/Sorted/Snare/Strike/*.wav')\n",
    "files_toms_rack = glob('data/MDLib2.2/MDLib2.2/Sorted/Rack Tom/Strike/*.wav')\n",
    "files_toms_floor = glob('data/MDLib2.2/MDLib2.2/Sorted/Floor Tom/Strike/*.wav')\n",
    "files_kick = glob('data/MDLib2.2/MDLib2.2/Sorted/Kick/*/*/*.wav')\n",
    "\n",
    "files_hihat = glob('data/MDLib2.2/MDLib2.2/Sorted/Cymbals/HiHat/*/*.wav')\n",
    "files_ride = glob('data/MDLib2.2/MDLib2.2/Sorted/Cymbals/Ride/Tip/*.wav')\n",
    "files_crash = glob('data/MDLib2.2/MDLib2.2/Sorted/Cymbals/Bright Crash/*/*.wav')\n",
    "files_dark_crash = glob('data/MDLib2.2/MDLib2.2/Sorted/Cymbals/Dark Crash/*/*.wav')\n",
    "\n",
    "# combine bright and dark crash files into list of crashes\n",
    "for i in files_dark_crash:\n",
    "    files_crash.append(i)"
   ]
  },
  {
   "cell_type": "code",
   "execution_count": 3,
   "metadata": {},
   "outputs": [],
   "source": [
    "# Used to load audio files w/ librosa and extract y values and sample rate\n",
    "def load_file(file):\n",
    "    \n",
    "    # reset lists\n",
    "    y_values = []\n",
    "    sample_rates = []\n",
    "    \n",
    "    # loop through file list\n",
    "    for i in file:\n",
    "        \n",
    "        # pull y-values and sample rate from each file\n",
    "        y, sr = librosa.load(i)\n",
    "        \n",
    "        # add values to respective lists\n",
    "        y_values.append(y)\n",
    "        sample_rates.append(sr)\n",
    "        \n",
    "    return y_values, sample_rates"
   ]
  },
  {
   "cell_type": "code",
   "execution_count": 4,
   "metadata": {},
   "outputs": [],
   "source": [
    "# duration of audio file\n",
    "def get_duration(file):\n",
    "    dur = librosa.get_duration(filename=file)\n",
    "    return dur"
   ]
  },
  {
   "cell_type": "code",
   "execution_count": 5,
   "metadata": {},
   "outputs": [],
   "source": [
    "# trim duration of audio file based on decibel threshold\n",
    "def trim_audio(y, db=25):\n",
    "    y_trimmed, ind = librosa.effects.trim(y, top_db=db)\n",
    "    dur_trimmed = librosa.get_duration(y=y_trimmed)\n",
    "    return(dur_trimmed)"
   ]
  },
  {
   "cell_type": "code",
   "execution_count": 6,
   "metadata": {},
   "outputs": [],
   "source": [
    "# trim y values (basically, the duration again) based on decibel threshold\n",
    "def trim_y(y, db=25):\n",
    "    y_trimmed, ind = librosa.effects.trim(y, top_db=db)\n",
    "    return(y_trimmed)"
   ]
  },
  {
   "cell_type": "markdown",
   "metadata": {},
   "source": [
    "### Dataframe Assembly"
   ]
  },
  {
   "cell_type": "code",
   "execution_count": 7,
   "metadata": {},
   "outputs": [],
   "source": [
    "# Create SNARE dataframe\n",
    "y, sr = load_file(files_snare)\n",
    "\n",
    "snare = pd.DataFrame({\n",
    "    \"file_name\": files_snare,\n",
    "    \"ins\": 'snare',\n",
    "    \"sr\": sr,\n",
    "    \"y\": y\n",
    "})\n",
    "snare['y_trimmed'] = snare['y'].map(trim_y)\n",
    "snare['length'] = snare['file_name'].map(get_duration)\n",
    "snare['length_trimmed'] = snare['y'].map(trim_audio)\n",
    "\n",
    "\n",
    "\n",
    "# Create RACK TOMS dataframe\n",
    "y, sr = load_file(files_toms_rack)\n",
    "\n",
    "toms_rack = pd.DataFrame({\n",
    "    \"file_name\": files_toms_rack,\n",
    "    \"ins\": 'rack_tom',\n",
    "    \"sr\": sr,\n",
    "    \"y\": y\n",
    "})\n",
    "# Add trimmed columns\n",
    "toms_rack['y_trimmed'] = toms_rack['y'].map(trim_y)\n",
    "toms_rack['length'] = toms_rack['file_name'].map(get_duration)\n",
    "toms_rack['length_trimmed'] = toms_rack['y'].map(trim_audio)\n",
    "\n",
    "\n",
    "\n",
    "# Create FLOOR TOMS dataframe\n",
    "y, sr = load_file(files_toms_floor)\n",
    "\n",
    "toms_floor = pd.DataFrame({\n",
    "    \"file_name\": files_toms_floor,\n",
    "    \"ins\": 'floor_tom',\n",
    "    \"sr\": sr,\n",
    "    \"y\": y\n",
    "})\n",
    "# Add trimmed columns\n",
    "toms_floor['y_trimmed'] = toms_floor['y'].map(trim_y)\n",
    "toms_floor['length'] = toms_floor['file_name'].map(get_duration)\n",
    "toms_floor['length_trimmed'] = toms_floor['y'].map(trim_audio)\n",
    "\n",
    "\n",
    "\n",
    "# Create KICK dataframe\n",
    "y, sr = load_file(files_kick)\n",
    "\n",
    "kick = pd.DataFrame({\n",
    "    \"file_name\": files_kick,\n",
    "    \"ins\": 'kick',\n",
    "    \"sr\": sr,\n",
    "    \"y\": y\n",
    "})\n",
    "# Add trimmed columns\n",
    "kick['y_trimmed'] = kick['y'].map(trim_y)\n",
    "kick['length'] = kick['file_name'].map(get_duration)\n",
    "kick['length_trimmed'] = kick['y'].map(trim_audio)\n",
    "\n",
    "\n",
    "\n",
    "# Create HIHAT dataframe\n",
    "y, sr = load_file(files_hihat)\n",
    "\n",
    "hihat = pd.DataFrame({\n",
    "    \"file_name\": files_hihat,\n",
    "    \"ins\": 'hihat',\n",
    "    \"sr\": sr,\n",
    "    \"y\": y\n",
    "})\n",
    "# Add trimmed columns\n",
    "hihat['y_trimmed'] = hihat['y'].map(trim_y)\n",
    "hihat['length'] = hihat['file_name'].map(get_duration)\n",
    "hihat['length_trimmed'] = hihat['y'].map(trim_audio)\n",
    "\n",
    "\n",
    "\n",
    "# Create RIDE CYMBAL dataframe\n",
    "y, sr = load_file(files_ride)\n",
    "\n",
    "ride = pd.DataFrame({\n",
    "    \"file_name\": files_ride,\n",
    "    \"ins\": 'ride',\n",
    "    \"sr\": sr,\n",
    "    \"y\": y\n",
    "})\n",
    "# Add trimmed columns\n",
    "ride['y_trimmed'] = ride['y'].map(trim_y)\n",
    "ride['length'] = ride['file_name'].map(get_duration)\n",
    "ride['length_trimmed'] = ride['y'].map(trim_audio)\n",
    "\n",
    "\n",
    "\n",
    "# Create CRASH CYMBAL dataframe\n",
    "y, sr = load_file(files_crash)\n",
    "\n",
    "crash = pd.DataFrame({\n",
    "    \"file_name\": files_crash,\n",
    "    \"ins\": 'crash',\n",
    "    \"sr\": sr,\n",
    "    \"y\": y\n",
    "})\n",
    "# Add trimmed columns\n",
    "crash['y_trimmed'] = crash['y'].map(trim_y)\n",
    "crash['length'] = crash['file_name'].map(get_duration)\n",
    "crash['length_trimmed'] = crash['y'].map(trim_audio)\n",
    "\n",
    "\n",
    "\n",
    "# COMBINE dataframes\n",
    "df_list = [snare, toms_rack, toms_floor, kick, hihat, ride, crash]\n",
    "\n",
    "df = pd.concat(df_list)"
   ]
  },
  {
   "cell_type": "markdown",
   "metadata": {},
   "source": [
    "## Feature Engineering"
   ]
  },
  {
   "cell_type": "code",
   "execution_count": 8,
   "metadata": {},
   "outputs": [],
   "source": [
    "def get_summary_stats(y):\n",
    "    \n",
    "    # creates one column df to perform descriptive stats on\n",
    "    col = pd.DataFrame(y).T\n",
    "    \n",
    "    # get descriptive stats\n",
    "    ds = col.describe(include='all')\n",
    "    \n",
    "    # assign variables for each stat\n",
    "    mean = ds.loc['mean']\n",
    "    std = ds.loc['std']\n",
    "    mini = ds.loc['min']\n",
    "    q1 = ds.loc['25%']\n",
    "    medi = ds.loc['50%']\n",
    "    q3 = ds.loc['75%']\n",
    "    maxi = ds.loc['max']\n",
    "    \n",
    "    return(mean, std, mini, q1, medi, q3, maxi)"
   ]
  },
  {
   "cell_type": "code",
   "execution_count": 9,
   "metadata": {},
   "outputs": [],
   "source": [
    "# root mean square values for each frame of audio\n",
    "def calc_rms(y):\n",
    "    rms = librosa.feature.rms(y=y, frame_length=2048)\n",
    "    return(rms)"
   ]
  },
  {
   "cell_type": "code",
   "execution_count": 10,
   "metadata": {},
   "outputs": [],
   "source": [
    "# spectral centroid: center of spectral mass\n",
    "def calc_spec_centroid(y):\n",
    "    spec_cent = librosa.feature.spectral_centroid(y=y, sr=22050)\n",
    "    return(spec_cent)"
   ]
  },
  {
   "cell_type": "code",
   "execution_count": 11,
   "metadata": {},
   "outputs": [],
   "source": [
    "# bandwidth when max energy at one half\n",
    "def calc_spec_bandwidth(y):\n",
    "    spec_bandwidth = librosa.feature.spectral_bandwidth(y=y, sr=22050)\n",
    "    return(spec_bandwidth)"
   ]
  },
  {
   "cell_type": "code",
   "execution_count": 12,
   "metadata": {},
   "outputs": [],
   "source": [
    "# measures frequency at which a percentage\n",
    "# (85% is default) of total energy is below threshold\n",
    "def calc_spec_rolloff(y):\n",
    "    spec_rolloff = librosa.feature.spectral_rolloff(y=y, sr=22050)\n",
    "    return(spec_rolloff)"
   ]
  },
  {
   "cell_type": "code",
   "execution_count": 13,
   "metadata": {},
   "outputs": [],
   "source": [
    "# rate at which a signal crosses the x axis in a given frame\n",
    "def calc_zero_cross(y):\n",
    "    zero_cross_rate = librosa.feature.zero_crossing_rate(y=y, frame_length=2048)\n",
    "    return(zero_cross_rate)"
   ]
  },
  {
   "cell_type": "markdown",
   "metadata": {},
   "source": [
    "#### Calculating New Features"
   ]
  },
  {
   "cell_type": "code",
   "execution_count": 14,
   "metadata": {},
   "outputs": [],
   "source": [
    "# calc root mean square value for each frame of audio sample\n",
    "\n",
    "df['rms'] = df['y_trimmed'].map(calc_rms)\n",
    "\n",
    "x = [get_summary_stats(i) for i in df['rms']]\n",
    "\n",
    "df['rms_mean'] = [i[0][0] for i in x]\n",
    "df['rms_std'] = [i[1][0] for i in x]\n",
    "df['rms_min'] = [i[2][0] for i in x]\n",
    "df['rms_25%'] = [i[3][0] for i in x]\n",
    "df['rms_median'] = [i[4][0] for i in x]\n",
    "df['rms_75%'] = [i[5][0] for i in x]\n",
    "df['rms_max'] = [i[6][0] for i in x]\n",
    "df['rms_IQR'] = abs(df['rms_25%'] - df['rms_75%'])"
   ]
  },
  {
   "cell_type": "code",
   "execution_count": 15,
   "metadata": {},
   "outputs": [],
   "source": [
    "# how low or how high sound is - takes avg of pitch\n",
    "\n",
    "df['spec_centroid'] = df['y_trimmed'].map(calc_spec_centroid)\n",
    "\n",
    "x = [get_summary_stats(i) for i in df['spec_centroid']]\n",
    "\n",
    "df['spec_centroid_mean'] = [i[0][0] for i in x]\n",
    "df['spec_centroid_std'] = [i[1][0] for i in x]\n",
    "df['spec_centroid_min'] = [i[2][0] for i in x]\n",
    "df['spec_centroid_25%'] = [i[3][0] for i in x]\n",
    "df['spec_centroid_median'] = [i[4][0] for i in x]\n",
    "df['spec_centroid_75%'] = [i[5][0] for i in x]\n",
    "df['spec_centroid_max'] = [i[6][0] for i in x]\n",
    "df['spec_centroid_IQR'] = abs(df['spec_centroid_25%'] - df['spec_centroid_75%'])"
   ]
  },
  {
   "cell_type": "code",
   "execution_count": 16,
   "metadata": {},
   "outputs": [],
   "source": [
    "# bandwidth at one half peak maximum energy\n",
    "\n",
    "df['spec_bandwidth'] = df['y_trimmed'].map(calc_spec_bandwidth)\n",
    "\n",
    "x = [get_summary_stats(i) for i in df['spec_bandwidth']]\n",
    "\n",
    "df['spec_bandwidth_mean'] = [i[0][0] for i in x]\n",
    "df['spec_bandwidth_std'] = [i[1][0] for i in x]\n",
    "df['spec_bandwidth_min'] = [i[2][0] for i in x]\n",
    "df['spec_bandwidth_25%'] = [i[3][0] for i in x]\n",
    "df['spec_bandwidth_median'] = [i[4][0] for i in x]\n",
    "df['spec_bandwidth_75%'] = [i[5][0] for i in x]\n",
    "df['spec_bandwidth_max'] = [i[6][0] for i in x]\n",
    "df['spec_bandwidth_IQR'] = abs(df['spec_bandwidth_25%'] - df['spec_bandwidth_75%'])"
   ]
  },
  {
   "cell_type": "code",
   "execution_count": 17,
   "metadata": {},
   "outputs": [],
   "source": [
    "# measures frequency at which some percentage\n",
    "# (usually 85%) of total energy is contained\n",
    "\n",
    "df['spec_rolloff'] = df['y_trimmed'].map(calc_spec_rolloff)\n",
    "\n",
    "x = [get_summary_stats(i) for i in df['spec_rolloff']]\n",
    "\n",
    "df['spec_rolloff_mean'] = [i[0][0] for i in x]\n",
    "df['spec_rolloff_std'] = [i[1][0] for i in x]\n",
    "df['spec_rolloff_min'] = [i[2][0] for i in x]\n",
    "df['spec_rolloff_25%'] = [i[3][0] for i in x]\n",
    "df['spec_rolloff_median'] = [i[4][0] for i in x]\n",
    "df['spec_rolloff_75%'] = [i[5][0] for i in x]\n",
    "df['spec_rolloff_max'] = [i[6][0] for i in x]\n",
    "df['spec_rolloff_IQR'] = abs(df['spec_rolloff_25%'] - df['spec_rolloff_75%'])"
   ]
  },
  {
   "cell_type": "code",
   "execution_count": 18,
   "metadata": {},
   "outputs": [],
   "source": [
    "# compute zero crossing rate of an audio time series\n",
    "\n",
    "df['zcr'] = df['y_trimmed'].map(calc_zero_cross)\n",
    "\n",
    "x = [get_summary_stats(i) for i in df['zcr']]\n",
    "\n",
    "df['zcr_mean'] = [i[0][0] for i in x]\n",
    "df['zcr_std'] = [i[1][0] for i in x]\n",
    "df['zcr_min'] = [i[2][0] for i in x]\n",
    "df['zcr_25%'] = [i[3][0] for i in x]\n",
    "df['zcr_median'] = [i[4][0] for i in x]\n",
    "df['zcr_75%'] = [i[5][0] for i in x]\n",
    "df['zcr_max'] = [i[6][0] for i in x]\n",
    "df['zcr_IQR'] = abs(df['zcr_25%'] - df['zcr_75%'])"
   ]
  },
  {
   "cell_type": "markdown",
   "metadata": {},
   "source": [
    "## ML Testing"
   ]
  },
  {
   "cell_type": "code",
   "execution_count": 19,
   "metadata": {},
   "outputs": [],
   "source": [
    "# list of all column names that won't be used in modeling\n",
    "cols_to_drop = ['ins', 'file_name', 'sr', 'y', 'y_trimmed',\n",
    "                'length','rms', 'spec_centroid',\n",
    "                'spec_bandwidth', 'spec_rolloff', 'zcr']\n",
    "\n",
    "# assign training and target set\n",
    "X = df.drop(columns=cols_to_drop)\n",
    "y = df['ins']\n",
    "\n",
    "# train test split\n",
    "X_train, X_test, y_train, y_test = train_test_split(X,\n",
    "                                                    y,\n",
    "                                                    random_state=42)"
   ]
  },
  {
   "cell_type": "markdown",
   "metadata": {},
   "source": [
    "## Decision Tree (Baseline Model)"
   ]
  },
  {
   "cell_type": "code",
   "execution_count": 20,
   "metadata": {},
   "outputs": [
    {
     "data": {
      "text/plain": [
       "0.9409248836863633"
      ]
     },
     "execution_count": 20,
     "metadata": {},
     "output_type": "execute_result"
    }
   ],
   "source": [
    "# Instantiate the model\n",
    "dt_clf = DecisionTreeClassifier(random_state=42)\n",
    "\n",
    "# fit the model to the data\n",
    "dt_clf.fit(X_train, y_train)\n",
    "\n",
    "# predict the instrument played in X_test\n",
    "results = dt_clf.predict(X_test)\n",
    "\n",
    "# score predictions versus actual y_test\n",
    "acc = balanced_accuracy_score(y_test, results)\n",
    "acc"
   ]
  },
  {
   "cell_type": "code",
   "execution_count": 21,
   "metadata": {},
   "outputs": [
    {
     "name": "stdout",
     "output_type": "stream",
     "text": [
      "              precision    recall  f1-score   support\n",
      "\n",
      "       crash       0.86      0.89      0.88       154\n",
      "   floor_tom       1.00      0.98      0.99        98\n",
      "       hihat       0.96      0.96      0.96       296\n",
      "        kick       1.00      0.99      1.00       128\n",
      "    rack_tom       0.98      1.00      0.99        91\n",
      "        ride       0.82      0.77      0.79        64\n",
      "       snare       0.99      1.00      1.00       169\n",
      "\n",
      "    accuracy                           0.95      1000\n",
      "   macro avg       0.94      0.94      0.94      1000\n",
      "weighted avg       0.95      0.95      0.95      1000\n",
      "\n"
     ]
    }
   ],
   "source": [
    "print(classification_report(y_test, results))"
   ]
  },
  {
   "cell_type": "code",
   "execution_count": 22,
   "metadata": {},
   "outputs": [
    {
     "data": {
      "image/png": "[encoded data removed]",
      "text/plain": [
       "<Figure size 432x288 with 2 Axes>"
      ]
     },
     "metadata": {
      "needs_background": "light"
     },
     "output_type": "display_data"
    }
   ],
   "source": [
    "# create confusion matrix to see where the type 1&2 errors occurred\n",
    "plot_confusion_matrix(dt_clf, X_test, y_test, xticks_rotation=30)\n",
    "plt.title('Decision Tree Drum Classification')\n",
    "plt.show()"
   ]
  },
  {
   "cell_type": "markdown",
   "metadata": {},
   "source": [
    "## Random Forest (Intermediate Model)"
   ]
  },
  {
   "cell_type": "code",
   "execution_count": 23,
   "metadata": {},
   "outputs": [
    {
     "name": "stdout",
     "output_type": "stream",
     "text": [
      "Acc Score with 300 estimators: 0.9780604633920961\n"
     ]
    }
   ],
   "source": [
    "# assign estimators used in random forest\n",
    "estimators = 300\n",
    "\n",
    "# instantiate the model\n",
    "rf = RandomForestClassifier(n_estimators=estimators,\n",
    "                                random_state=42)\n",
    "\n",
    "# fit the model to the data\n",
    "rf.fit(X_train, y_train)\n",
    "\n",
    "# predict the instrument played in X_test\n",
    "results = rf.predict(X_test)\n",
    "\n",
    "# score predictions versus actual y_test\n",
    "acc = balanced_accuracy_score(y_test, results)\n",
    "\n",
    "print(f'Acc Score with {estimators} estimators: {acc}')"
   ]
  },
  {
   "cell_type": "code",
   "execution_count": 24,
   "metadata": {},
   "outputs": [
    {
     "name": "stdout",
     "output_type": "stream",
     "text": [
      "              precision    recall  f1-score   support\n",
      "\n",
      "       crash       0.91      0.97      0.94       154\n",
      "   floor_tom       1.00      0.99      0.99        98\n",
      "       hihat       0.99      0.98      0.98       296\n",
      "        kick       1.00      1.00      1.00       128\n",
      "    rack_tom       1.00      1.00      1.00        91\n",
      "        ride       1.00      0.91      0.95        64\n",
      "       snare       1.00      1.00      1.00       169\n",
      "\n",
      "    accuracy                           0.98      1000\n",
      "   macro avg       0.99      0.98      0.98      1000\n",
      "weighted avg       0.98      0.98      0.98      1000\n",
      "\n"
     ]
    }
   ],
   "source": [
    "print(classification_report(y_test, results))"
   ]
  },
  {
   "cell_type": "code",
   "execution_count": 25,
   "metadata": {},
   "outputs": [
    {
     "data": {
      "image/png": "[encoded data removed]",
      "text/plain": [
       "<Figure size 432x288 with 2 Axes>"
      ]
     },
     "metadata": {
      "needs_background": "light"
     },
     "output_type": "display_data"
    }
   ],
   "source": [
    "# create confusion matrix to see where the type 1&2 errors occurred\n",
    "plot_confusion_matrix(rf, X_test, y_test, xticks_rotation=30)\n",
    "plt.title('Random Forest Drum Classification')\n",
    "plt.show()"
   ]
  },
  {
   "cell_type": "markdown",
   "metadata": {},
   "source": [
    "predicted crash column shows 14 false positives (1 floor_tom, 7 hihat, 6 ride)\n",
    "\n",
    "true value crash row shows 4 false negatives (4 hihat)"
   ]
  },
  {
   "cell_type": "code",
   "execution_count": 26,
   "metadata": {
    "scrolled": true
   },
   "outputs": [
    {
     "name": "stdout",
     "output_type": "stream",
     "text": [
      "length_trimmed: (0.07614462868849893)\n",
      "spec_centroid_max: (0.06561412325765824)\n",
      "zcr_max: (0.06081793516064646)\n",
      "spec_rolloff_max: (0.056961834660130224)\n",
      "zcr_25%: (0.05377607133448421)\n",
      "zcr_median: (0.0436797422641571)\n",
      "zcr_mean: (0.04330760394301005)\n",
      "spec_bandwidth_min: (0.034488019621853466)\n",
      "spec_rolloff_min: (0.033824214569712165)\n",
      "spec_bandwidth_25%: (0.03375729914866037)\n",
      "zcr_min: (0.03374950894486848)\n",
      "spec_centroid_min: (0.02948124879365023)\n",
      "zcr_75%: (0.028819543891429492)\n",
      "spec_bandwidth_mean: (0.027650088534723317)\n",
      "spec_bandwidth_max: (0.02626606620722219)\n",
      "spec_rolloff_25%: (0.02547403453441452)\n",
      "spec_rolloff_median: (0.022106275862835804)\n",
      "spec_bandwidth_75%: (0.020860228995536585)\n",
      "spec_bandwidth_median: (0.019996141898707975)\n",
      "spec_rolloff_mean: (0.019619793019365006)\n",
      "spec_centroid_75%: (0.018432809394468723)\n",
      "spec_centroid_25%: (0.017293502023025088)\n",
      "spec_centroid_median: (0.01590314689680439)\n",
      "spec_centroid_mean: (0.015569465488428209)\n",
      "spec_rolloff_75%: (0.015231861399914082)\n",
      "spec_centroid_std: (0.013824306578767633)\n",
      "zcr_std: (0.013709743460686099)\n",
      "spec_rolloff_std: (0.013214999428485502)\n",
      "zcr_IQR: (0.012484733568263946)\n",
      "rms_IQR: (0.01118121050622558)\n",
      "spec_rolloff_IQR: (0.010516463268383744)\n",
      "rms_std: (0.010084833427643563)\n",
      "spec_bandwidth_std: (0.009866620053789125)\n",
      "rms_75%: (0.009756192718352612)\n",
      "rms_max: (0.008776714012553333)\n",
      "rms_median: (0.008762498629320737)\n",
      "spec_centroid_IQR: (0.008539365623800062)\n",
      "rms_min: (0.008341417257112503)\n",
      "rms_mean: (0.008257304709470689)\n",
      "rms_25%: (0.007181513427792734)\n",
      "spec_bandwidth_IQR: (0.006676894795146813)\n"
     ]
    }
   ],
   "source": [
    "# List the features sorted in descending order by feature importance\n",
    "by_features = sorted(zip(rf.feature_importances_, X.columns), reverse=True)\n",
    "for feature_rank in by_features:\n",
    "    print(f\"{feature_rank[1]}: ({feature_rank[0]})\")"
   ]
  },
  {
   "cell_type": "code",
   "execution_count": 27,
   "metadata": {},
   "outputs": [
    {
     "data": {
      "image/png": "[encoded data removed]",
      "text/plain": [
       "<Figure size 432x288 with 1 Axes>"
      ]
     },
     "metadata": {
      "needs_background": "light"
     },
     "output_type": "display_data"
    }
   ],
   "source": [
    "# Chart important features in optimized Random Forest\n",
    "feat_importances = pd.Series(rf.feature_importances_, index=X.columns)\n",
    "feat_importances.nlargest(20).plot(kind='barh',\n",
    "                                   color=['blue', 'red', 'green', 'yellow', 'cyan']).invert_yaxis()"
   ]
  },
  {
   "cell_type": "markdown",
   "metadata": {},
   "source": [
    "## XGBoost (Final Model)"
   ]
  },
  {
   "cell_type": "code",
   "execution_count": 28,
   "metadata": {},
   "outputs": [
    {
     "data": {
      "text/plain": [
       "0.9839350183737938"
      ]
     },
     "execution_count": 28,
     "metadata": {},
     "output_type": "execute_result"
    }
   ],
   "source": [
    "# instantiate the model\n",
    "xg_clf = xgb.XGBClassifier(booster='gbtree', n_estimators=300,\n",
    "                          learning_rate=0.3, max_depth=6,\n",
    "                           random_state=42)\n",
    "\n",
    "# fit the model\n",
    "xg_clf.fit(X_train, y_train)\n",
    "\n",
    "# predict what instrument was played in X_test\n",
    "pred = xg_clf.predict(X_test)\n",
    "\n",
    "# score predicted results versus actual y_test values\n",
    "score = balanced_accuracy_score(y_test, pred)\n",
    "score"
   ]
  },
  {
   "cell_type": "code",
   "execution_count": 29,
   "metadata": {},
   "outputs": [
    {
     "name": "stdout",
     "output_type": "stream",
     "text": [
      "              precision    recall  f1-score   support\n",
      "\n",
      "       crash       0.95      0.98      0.96       154\n",
      "   floor_tom       1.00      0.99      0.99        98\n",
      "       hihat       0.99      0.98      0.98       296\n",
      "        kick       1.00      1.00      1.00       128\n",
      "    rack_tom       1.00      1.00      1.00        91\n",
      "        ride       0.95      0.94      0.94        64\n",
      "       snare       1.00      1.00      1.00       169\n",
      "\n",
      "    accuracy                           0.99      1000\n",
      "   macro avg       0.98      0.98      0.98      1000\n",
      "weighted avg       0.99      0.99      0.99      1000\n",
      "\n"
     ]
    }
   ],
   "source": [
    "print(classification_report(y_test, pred))"
   ]
  },
  {
   "cell_type": "code",
   "execution_count": 30,
   "metadata": {},
   "outputs": [
    {
     "data": {
      "image/png": "[encoded data removed]",
      "text/plain": [
       "<Figure size 432x288 with 2 Axes>"
      ]
     },
     "metadata": {
      "needs_background": "light"
     },
     "output_type": "display_data"
    }
   ],
   "source": [
    "# create confusion matrix to see where the type 1&2 errors occurred\n",
    "plot_confusion_matrix(xg_clf, X_test, y_test, xticks_rotation=30)\n",
    "plt.title('XGBoost Drum Classification')\n",
    "plt.show()"
   ]
  },
  {
   "cell_type": "markdown",
   "metadata": {},
   "source": [
    "Crash FP = 1 + 3 + 0 + 0 + 4 + 0 = 9\n",
    "\n",
    "Crash FN = 0 + 3 + 0 + 0 + 0 + 0 = 3"
   ]
  },
  {
   "cell_type": "markdown",
   "metadata": {},
   "source": [
    "## Exporting Model"
   ]
  },
  {
   "cell_type": "code",
   "execution_count": 31,
   "metadata": {},
   "outputs": [],
   "source": [
    "# saves the xgboost model to model folder\n",
    "pickle.dump(xg_clf, open('Model/xgb_model.pkl', 'wb'))"
   ]
  }
 ],
 "metadata": {
  "kernelspec": {
   "display_name": "Python (learn-env)",
   "language": "python",
   "name": "learn-env"
  },
  "language_info": {
   "codemirror_mode": {
    "name": "ipython",
    "version": 3
   },
   "file_extension": ".py",
   "mimetype": "text/x-python",
   "name": "python",
   "nbconvert_exporter": "python",
   "pygments_lexer": "ipython3",
   "version": "3.8.5"
  }
 },
 "nbformat": 4,
 "nbformat_minor": 4
}
